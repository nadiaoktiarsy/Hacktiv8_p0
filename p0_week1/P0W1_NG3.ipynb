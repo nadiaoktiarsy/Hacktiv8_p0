{
 "cells": [
  {
   "cell_type": "markdown",
   "metadata": {},
   "source": [
    "# NG-3 #\n",
    "\n",
    "Make a function that converts the temperature from Kelvin to celcius, and otherwise; and then to fahrenheit. Add the parameter "
   ]
  },
  {
   "cell_type": "code",
   "execution_count": 25,
   "metadata": {},
   "outputs": [
    {
     "name": "stdout",
     "output_type": "stream",
     "text": [
      "Hello, Okti.\n"
     ]
    }
   ],
   "source": [
    "# use the prompt parameter to write a message before the input:\n",
    "x = input('Enter your name:')\n",
    "print(f\"Hello, {x}.\")"
   ]
  },
  {
   "cell_type": "markdown",
   "metadata": {},
   "source": [
    "**Function logic**\n",
    "<img src=\"function logic.png\">"
   ]
  },
  {
   "cell_type": "code",
   "execution_count": 6,
   "metadata": {},
   "outputs": [
    {
     "name": "stdout",
     "output_type": "stream",
     "text": [
      "100 degrees C is 212.0 degrees F\n"
     ]
    }
   ],
   "source": [
    "# Notes how to convert between celcius and fahrenheit:\n",
    "def convert_temp(scale=None, source_temp=None):\n",
    "    if (scale == \"F\"):\n",
    "        return 'C', (source_temp - 32.0) * (5.0/9.0)\n",
    "    elif (scale == \"C\"):\n",
    "        return 'F', (source_temp * (9.0/5.0)) + 32.0\n",
    "    else:\n",
    "        print(\"Needs to be (F) or (C)!\")\n",
    "\n",
    "scale = input(\"Select (F) or (C): \" )\n",
    "source_temp = int(input(\"What is the temperature: \" ))\n",
    "s, m = convert_temp(scale, source_temp)\n",
    "print(source_temp, \"degrees\", scale, \"is\", m, \"degrees\", s)"
   ]
  },
  {
   "cell_type": "code",
   "execution_count": 88,
   "metadata": {},
   "outputs": [
    {
     "name": "stdout",
     "output_type": "stream",
     "text": [
      "65 degrees K is -208.14999999999998 degrees C.\n"
     ]
    }
   ],
   "source": [
    "# Make a function that converts temperature from Kelvin to celcius, and otherwise\n",
    "\n",
    "def convert_temp(scale=None, source_temp=None):\n",
    "    if(scale == \"K\") or (scale == \"K\"):\n",
    "        return 'C' or 'c', (source_temp - 273.15)\n",
    "    elif(scale == \"C\") or (scale == \"c\"):\n",
    "        return 'K' or 'k', (source_temp + 273.15)\n",
    "    else:\n",
    "        print(\"Need to be in Kelvin or Celcius!\")\n",
    "\n",
    "# Call the function:\n",
    "scale = input(\"Select (K) or (C):\")\n",
    "source_temp = int(input(\"What is the temperature?\"))\n",
    "s, t = convert_temp(scale, source_temp)\n",
    "print(f\"{source_temp} degrees {scale} is {t} degrees {s}.\")"
   ]
  },
  {
   "cell_type": "code",
   "execution_count": 89,
   "metadata": {},
   "outputs": [
    {
     "name": "stdout",
     "output_type": "stream",
     "text": [
      "12 degrees C is 53.6 degrees F\n"
     ]
    }
   ],
   "source": [
    "# Make a conversion to Fahrenheit, make the input is either Kelvin or Celcius\n",
    "def convert_temp(scale=None, source_temp=None):\n",
    "    if (scale == \"K\") or (scale == \"k\"):      # conversion from K to F\n",
    "        return 'F' or 'f', ((source_temp - 273.15) * (9/5) + 32)\n",
    "    elif(scale == \"C\") or (scale == \"c\"):     # conversion from K to F\n",
    "        return 'F' or 'f', (source_temp * (9/5)) + 32\n",
    "    elif (scale == \"F\") or (scale == \"f\"):    # conversion from F to C\n",
    "        return 'C' or 'c', (source_temp - 32.0) * (5.0/9.0)\n",
    "    else:\n",
    "        print(\"Need to be in Kelvin, Celcius, or Fahrenheit!\")\n",
    "\n",
    "# call the function\n",
    "scale = input(\"Select K, C, or F:\")\n",
    "convert_temp = int(input(\"What is the temperature?\"))\n",
    "s, t = convert_temp2(scale, convert_temp)\n",
    "print(convert_temp, \"degrees\", scale, \"is\", round(t, 2), \"degrees\", s)"
   ]
  },
  {
   "cell_type": "markdown",
   "metadata": {},
   "source": [
    "---\n",
    "### **Lesson learned** ###\n",
    "\n",
    "1. You can make defs after a def, defs basically define the function.\n",
    "2. Distinguish between the ```and``` and ```or``` operators. Those do return one of their operands, not a pure boolean value like ```True``` or ```False```:\n",
    "    ```\n",
    "    >>> 0 or 42\n",
    "    42\n",
    "    >>> 0 and 42\n",
    "    0\n",
    "    ```"
   ]
  },
  {
   "cell_type": "code",
   "execution_count": 7,
   "metadata": {},
   "outputs": [
    {
     "name": "stdout",
     "output_type": "stream",
     "text": [
      "12.0 degree C = 53.6 degree F\n"
     ]
    }
   ],
   "source": [
    "# define the inner functions:\n",
    "def kelvin_celcius(T):\n",
    "    return T-273.15\n",
    "\n",
    "def celcius_kelvin(T):\n",
    "    return T+273.15\n",
    "\n",
    "def celcius_fahrenheit(T):\n",
    "    return (T*9/5)+32\n",
    "\n",
    "def fahrenheit_celcius(T):\n",
    "    return (T-32)*5/9\n",
    "\n",
    "def fahrenheit_kelvin(T):\n",
    "    return ((T-32)*5/9)+273.15\n",
    "\n",
    "def kelvin_fahrenheit(T):\n",
    "    return ((T-273.15)*9/5)+32\n",
    "\n",
    "# define the outer functions:\n",
    "def convert_temp(T, scale_in=None, scale_out=None):\n",
    "    scale_in = scale_in.upper()\n",
    "    scale_out = scale_out.upper()\n",
    "    if scale_in=='C' and scale_out=='F':\n",
    "        return celcius_fahrenheit(T)\n",
    "    elif scale_in=='C' and scale_out=='K':\n",
    "        return celcius_kelvin(T)\n",
    "    elif scale_in=='F' and scale_out=='C':\n",
    "        return fahrenheit_celcius(T)\n",
    "    elif scale_in=='K' and scale_out(C):\n",
    "        return kelvin_celcius(T)\n",
    "    elif scale_in=='F' and scale_out=='K':\n",
    "        return fahrenheit_kelvin(T)\n",
    "    elif scale_in=='K' and scale_out=='F':\n",
    "        return kelvin_fahrenheit(T)\n",
    "\n",
    "# call the function\n",
    "scale_in = input(\"Select the scale you want to convert from (C, K,or F):\")\n",
    "scale_out = input(\"Select the scale you want to convert to (C, K, or F):\")\n",
    "T_input = float(input(\"Input the temperature (a number):\"))\n",
    "T_output = convert_temp(T_input, scale_in, scale_out)\n",
    "\n",
    "if T_output == None:\n",
    "    print(f\"Error! Please check your input!\")\n",
    "else:\n",
    "    print(f\"{T_input} degree {scale_in} = {T_output} degree {scale_out}\")"
   ]
  }
 ],
 "metadata": {
  "kernelspec": {
   "display_name": "Python 3.9.5 64-bit",
   "language": "python",
   "name": "python3"
  },
  "language_info": {
   "codemirror_mode": {
    "name": "ipython",
    "version": 3
   },
   "file_extension": ".py",
   "mimetype": "text/x-python",
   "name": "python",
   "nbconvert_exporter": "python",
   "pygments_lexer": "ipython3",
   "version": "3.9.5"
  },
  "orig_nbformat": 4,
  "vscode": {
   "interpreter": {
    "hash": "c347c8f9a7ef94e4c9e03b4513be7835ed18f45b99a2a817fb579f408b867b16"
   }
  }
 },
 "nbformat": 4,
 "nbformat_minor": 2
}
