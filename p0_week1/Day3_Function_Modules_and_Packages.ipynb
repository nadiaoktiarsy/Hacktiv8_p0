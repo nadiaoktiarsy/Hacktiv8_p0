{
 "cells": [
  {
   "cell_type": "markdown",
   "metadata": {},
   "source": [
    "# PYTHON PRACTICE WEEK 1, DAY 3 #\n",
    "More challanges for today, try to find new terms if you still don't understand the logic. Let's do it!"
   ]
  },
  {
   "cell_type": "code",
   "execution_count": 2,
   "metadata": {},
   "outputs": [
    {
     "data": {
      "text/plain": [
       "'Hello, world!'"
      ]
     },
     "execution_count": 2,
     "metadata": {},
     "output_type": "execute_result"
    }
   ],
   "source": [
    "a='Hello, world!'\n",
    "a"
   ]
  },
  {
   "cell_type": "markdown",
   "metadata": {},
   "source": [
    "#### **1. Condition** ####\n",
    "If, else, etc statements. The usage of 'f' is to call the variable we decleared, and it means \"format\". As we have learned before, 'f' is the same like syntax: *string*.format(value1,value2)"
   ]
  },
  {
   "cell_type": "code",
   "execution_count": 3,
   "metadata": {},
   "outputs": [
    {
     "name": "stdout",
     "output_type": "stream",
     "text": [
      "Hello!\n"
     ]
    }
   ],
   "source": [
    "if True:\n",
    "    print('Hello!')"
   ]
  },
  {
   "cell_type": "code",
   "execution_count": 6,
   "metadata": {},
   "outputs": [
    {
     "name": "stdout",
     "output_type": "stream",
     "text": [
      "3<5\n"
     ]
    }
   ],
   "source": [
    "b=5\n",
    "if 3 < b:\n",
    "    print(f'3<{b}')\n",
    "\n",
    "\n",
    "# When the condition is false, the code will not be executed.\n",
    "b=1\n",
    "if 3 < b:\n",
    "    print(f'3<{b}')"
   ]
  },
  {
   "cell_type": "code",
   "execution_count": 15,
   "metadata": {},
   "outputs": [
    {
     "name": "stdout",
     "output_type": "stream",
     "text": [
      "Score C is 7 dan score D is 8\n",
      "Wrong\n"
     ]
    }
   ],
   "source": [
    "c=7\n",
    "d=8\n",
    "\n",
    "if c<=d:\n",
    "    print('Score C is',f'{c} dan','score D is',f'{d}')\n",
    "\n",
    "\n",
    "if c>d:\n",
    "    print(f'{c}'>f'{d}','and score C is', f'{c} and','score D is ',f'{d}')\n",
    "elif c==d:\n",
    "    print(f'{c}=',f'{d}','and score C is', f'{c} and','score D is',f'{d}')\n",
    "else:\n",
    "    print('Wrong')"
   ]
  },
  {
   "cell_type": "markdown",
   "metadata": {},
   "source": [
    "**Solve this case:**\n",
    "- Score [80-100] -> A\n",
    "- Score [70-80]  -> B\n",
    "- Score [60-70]  -> C\n",
    "- Score [50-60]  -> D\n",
    "- Score <50      -> E"
   ]
  },
  {
   "cell_type": "code",
   "execution_count": 19,
   "metadata": {},
   "outputs": [
    {
     "name": "stdout",
     "output_type": "stream",
     "text": [
      "C\n"
     ]
    }
   ],
   "source": [
    "# Catagorize scores\n",
    "grade=67\n",
    "\n",
    "if grade >= 80:\n",
    "    print ('A')\n",
    "elif grade >=70 and grade <= 79:\n",
    "    print('B')\n",
    "elif grade >=60 and grade <= 69:\n",
    "    print('C')\n",
    "elif grade >=50 and grade <= 59:\n",
    "    print('D')\n",
    "else:\n",
    "    print('E')"
   ]
  },
  {
   "cell_type": "code",
   "execution_count": 2,
   "metadata": {},
   "outputs": [
    {
     "data": {
      "text/plain": [
       "'D'"
      ]
     },
     "execution_count": 2,
     "metadata": {},
     "output_type": "execute_result"
    }
   ],
   "source": [
    "def gradeScore(score):\n",
    "    if score >= 80 and score <= 100:\n",
    "        return \"A\"\n",
    "    if score >= 70 and score <= 80:\n",
    "        return \"B\"\n",
    "    if score >= 60 and score <= 70:\n",
    "        return \"C\"\n",
    "    if score >= 50 and score <= 60:\n",
    "        return \"D\"\n",
    "    if score <50:\n",
    "        return \"C\"\n",
    "    return \"error\"\n",
    "\n",
    "gradeScore(50)"
   ]
  },
  {
   "cell_type": "markdown",
   "metadata": {},
   "source": [
    "**Nested IF**\n",
    "\n",
    "There may be a situation when **you want to check for another condition after a condition resolves to true**. In such a situation, you can use the nested if construct.\n",
    "\n",
    "In a nested if construct, you can have an if...elif...else construct inside another if...elif...else construct."
   ]
  },
  {
   "cell_type": "code",
   "execution_count": 8,
   "metadata": {},
   "outputs": [
    {
     "name": "stdout",
     "output_type": "stream",
     "text": [
      "Could not find true expression\n",
      "Good bye!\n"
     ]
    }
   ],
   "source": [
    "var = 300\n",
    "if var < 200:\n",
    "   print(\"Expression value is less than 200\")\n",
    "   if var == 150:\n",
    "      print(\"Which is 150\")\n",
    "   elif var == 100:\n",
    "      print(\"Which is 100\")\n",
    "   elif var == 50:\n",
    "      print(\"Which is 50\")\n",
    "   elif var < 50:\n",
    "      print(\"Expression value is less than 50\")\n",
    "else:\n",
    "   print(\"Could not find true expression\")\n",
    "\n",
    "\n",
    "print(\"Good bye!\")"
   ]
  },
  {
   "cell_type": "markdown",
   "metadata": {},
   "source": [
    "**Functions**\n",
    "\n",
    "The usage of 'def' is for function. A function is a block of code which only runs when it is called."
   ]
  },
  {
   "cell_type": "code",
   "execution_count": 6,
   "metadata": {},
   "outputs": [
    {
     "name": "stdout",
     "output_type": "stream",
     "text": [
      "Grade is not defined.\n"
     ]
    }
   ],
   "source": [
    "# Example for the usage of function in if elif else case:\n",
    "\n",
    "def gradeScore(score):\n",
    "  if 0<= score <=100:\n",
    "    if score >= 80 and score <=100:\n",
    "        x = \"A\"\n",
    "    elif score >= 70:\n",
    "        x =\"B\"\n",
    "    elif score >= 60:\n",
    "        x =\"C\"\n",
    "    elif score >= 50:\n",
    "        x =\"D\"\n",
    "    else:\n",
    "        x = \"E\"\n",
    "    print(x)\n",
    "  else:\n",
    "    print('Grade is not defined.')\n",
    "gradeScore(-10)"
   ]
  },
  {
   "cell_type": "markdown",
   "metadata": {},
   "source": [
    "#### **2. Conditioning in String** ####"
   ]
  },
  {
   "cell_type": "code",
   "execution_count": 24,
   "metadata": {},
   "outputs": [
    {
     "name": "stdout",
     "output_type": "stream",
     "text": [
      "Redwood is the part of the city.\n"
     ]
    }
   ],
   "source": [
    "city=['Redwood','Springvile','York']\n",
    "city_name='Redwood'\n",
    "\n",
    "if city_name in city:\n",
    "    print(f'{city_name} is the part of the city.')\n",
    "\n",
    "#if you input the string that's not mentioned on the list, the result won't be shown."
   ]
  },
  {
   "cell_type": "markdown",
   "metadata": {},
   "source": [
    "#### **3. Looping** ####\n",
    "\n",
    "One thing that you have to remember about Loop is that iteration, it will be executing the same block of code over and over, potentially many times. There are at least two types of loops:\n",
    "- Indefinite iteration, the number of times the loop isn't specified\n",
    "- Definite iteration, the opposite of indefinite iteration lol"
   ]
  },
  {
   "cell_type": "markdown",
   "metadata": {},
   "source": [
    "**While Loop**\n",
    "\n",
    "You repeat the same thing until there's any false result."
   ]
  },
  {
   "cell_type": "code",
   "execution_count": null,
   "metadata": {},
   "outputs": [],
   "source": [
    "while True:\n",
    "    print('ok')\n",
    "    \n",
    "## DO NOT RUN THIS LOL ##"
   ]
  },
  {
   "cell_type": "code",
   "execution_count": 10,
   "metadata": {},
   "outputs": [
    {
     "name": "stdout",
     "output_type": "stream",
     "text": [
      "Passing grade A is 1\n",
      "Passing grade A is 2\n",
      "Passing grade A is 3\n",
      "Passing grade A is 4\n"
     ]
    }
   ],
   "source": [
    "a = 1\n",
    "\n",
    "while a<4.2:\n",
    "    print(\"Passing grade A is\",f'{a}')\n",
    "    a=a+1"
   ]
  },
  {
   "cell_type": "code",
   "execution_count": 10,
   "metadata": {},
   "outputs": [],
   "source": [
    "city='Redwood'\n",
    "city_name='York'\n",
    "\n",
    "while city_name in city:\n",
    "    print(f'{city_name} is the part of the city.')\n",
    "\n",
    "## DO NOT RUN THIS LOL ##"
   ]
  },
  {
   "cell_type": "code",
   "execution_count": 11,
   "metadata": {},
   "outputs": [
    {
     "data": {
      "text/plain": [
       "False"
      ]
     },
     "execution_count": 11,
     "metadata": {},
     "output_type": "execute_result"
    }
   ],
   "source": [
    "city_name in city"
   ]
  },
  {
   "cell_type": "code",
   "execution_count": 16,
   "metadata": {},
   "outputs": [
    {
     "name": "stdout",
     "output_type": "stream",
     "text": [
      "The multiply of 1 x 1 = 1\n",
      "The multiply of 1 x 2 = 2\n",
      "The multiply of 1 x 3 = 3\n",
      "The multiply of 1 x 4 = 4\n",
      "The multiply of 1 x 5 = 5\n",
      "********************\n",
      "The multiply of 2 x 1 = 2\n",
      "The multiply of 2 x 2 = 4\n",
      "The multiply of 2 x 3 = 6\n",
      "The multiply of 2 x 4 = 8\n",
      "The multiply of 2 x 5 = 10\n",
      "********************\n",
      "The multiply of 3 x 1 = 3\n",
      "The multiply of 3 x 2 = 6\n",
      "The multiply of 3 x 3 = 9\n",
      "The multiply of 3 x 4 = 12\n",
      "The multiply of 3 x 5 = 15\n",
      "********************\n",
      "The multiply of 4 x 1 = 4\n",
      "The multiply of 4 x 2 = 8\n",
      "The multiply of 4 x 3 = 12\n",
      "The multiply of 4 x 4 = 16\n",
      "The multiply of 4 x 5 = 20\n",
      "********************\n"
     ]
    }
   ],
   "source": [
    "a=1\n",
    "b=1\n",
    "\n",
    "while a<5:\n",
    "  while b<6:\n",
    "    print(f'The multiply of {a} x {b} = {b*a}')\n",
    "    b=b+1\n",
    "  print('*'*20)\n",
    "  a=a+1\n",
    "  b=1"
   ]
  },
  {
   "cell_type": "markdown",
   "metadata": {},
   "source": [
    "**For Loop**\n",
    "\n",
    "Loop continues until we reach the last item in the sequence. The body of for loop is separated from the rest of the code using indentation."
   ]
  },
  {
   "cell_type": "code",
   "execution_count": 17,
   "metadata": {},
   "outputs": [
    {
     "name": "stdout",
     "output_type": "stream",
     "text": [
      "Passing grade C is:  1\n",
      "Passing grade C is:  2\n",
      "Passing grade C is:  3\n",
      "Passing grade C is:  4\n",
      "Redwood is the part of the city.\n",
      "Springvile is the part of the city.\n",
      "York is the part of the city.\n",
      "3\n",
      "6\n"
     ]
    }
   ],
   "source": [
    "# For loop\n",
    "for c in range (1,5):\n",
    "    print('Passing grade C is: ',f'{c}')\n",
    "\n",
    "city=['Redwood','Springvile','York']\n",
    "\n",
    "for city_name in city:\n",
    "    print(f'{city_name} is the part of the city.')\n",
    "\n",
    "for c in range (1,3):\n",
    "    print(f'{c*3}')"
   ]
  },
  {
   "cell_type": "code",
   "execution_count": 27,
   "metadata": {},
   "outputs": [
    {
     "name": "stdout",
     "output_type": "stream",
     "text": [
      "The multiple of 1 and 1 is 1\n",
      "The multiple of 2 and 1 is 2\n",
      "The multiple of 3 and 1 is 3\n",
      "The multiple of 4 and 1 is 4\n",
      "The multiple of 5 and 1 is 5\n",
      "The multiple of 1 and 2 is 2\n",
      "The multiple of 2 and 2 is 4\n",
      "The multiple of 3 and 2 is 6\n",
      "The multiple of 4 and 2 is 8\n",
      "The multiple of 5 and 2 is 10\n",
      "The multiple of 1 and 3 is 3\n",
      "The multiple of 2 and 3 is 6\n",
      "The multiple of 3 and 3 is 9\n",
      "The multiple of 4 and 3 is 12\n",
      "The multiple of 5 and 3 is 15\n",
      "The multiple of 1 and 4 is 4\n",
      "The multiple of 2 and 4 is 8\n",
      "The multiple of 3 and 4 is 12\n",
      "The multiple of 4 and 4 is 16\n",
      "The multiple of 5 and 4 is 20\n",
      "********************\n"
     ]
    }
   ],
   "source": [
    "for a in range (1,5):\n",
    "    for b in range (1,6):\n",
    "        print(f'The multiple of {b} and {a} is {b*a}')\n",
    "print('*'*20)"
   ]
  },
  {
   "cell_type": "markdown",
   "metadata": {},
   "source": [
    "#### **4. Flow control statement** ####"
   ]
  },
  {
   "cell_type": "markdown",
   "metadata": {},
   "source": [
    "**Continue**"
   ]
  },
  {
   "cell_type": "code",
   "execution_count": 1,
   "metadata": {},
   "outputs": [
    {
     "name": "stdout",
     "output_type": "stream",
     "text": [
      "multiply of 1\n",
      "multiply of 2\n",
      "multiply of 4\n",
      "multiply of 5\n"
     ]
    }
   ],
   "source": [
    "for b in range (1,6):\n",
    "    if b == 3:\n",
    "        continue\n",
    "    print(f'multiply of {b}')\n"
   ]
  },
  {
   "cell_type": "code",
   "execution_count": 2,
   "metadata": {},
   "outputs": [
    {
     "name": "stdout",
     "output_type": "stream",
     "text": [
      "multiply of 1\n",
      "multiply of 2\n",
      "multiply of 4\n",
      "multiply of 5\n",
      "multiply of 7\n",
      "multiply of 8\n",
      "multiply of 9\n"
     ]
    }
   ],
   "source": [
    "for b in range (1,10):\n",
    "    if b in (3,6):\n",
    "        continue\n",
    "    print(f'multiply of {b}')"
   ]
  },
  {
   "cell_type": "code",
   "execution_count": null,
   "metadata": {},
   "outputs": [],
   "source": [
    "for b in range (1,10):\n",
    "    if b in (3,6):\n",
    "        continue\n",
    "    print(f'multiply of {b}')"
   ]
  },
  {
   "cell_type": "markdown",
   "metadata": {},
   "source": [
    "**Solve this problem:**"
   ]
  },
  {
   "cell_type": "code",
   "execution_count": 18,
   "metadata": {},
   "outputs": [
    {
     "name": "stdout",
     "output_type": "stream",
     "text": [
      "E\n"
     ]
    }
   ],
   "source": [
    "def gradeCalculation(grade):\n",
    "    if 0<=grade <=100:\n",
    "        if grade >= 80 and grade <=100:\n",
    "            x = \"A\"\n",
    "        elif grade >= 70:\n",
    "            x = \"B\"\n",
    "        elif grade >= 60:\n",
    "            x = \"C\"\n",
    "        elif grade >= 50:\n",
    "            x = \"D\"\n",
    "        else:\n",
    "            x = \"E\"\n",
    "        print(x)\n",
    "    else:\n",
    "        print('Grade is not defined.')\n",
    "gradeCalculation(10)"
   ]
  },
  {
   "cell_type": "code",
   "execution_count": null,
   "metadata": {},
   "outputs": [],
   "source": [
    "dictionary={'Raka':100, 'Hana':90, 'Dian':55}"
   ]
  },
  {
   "cell_type": "code",
   "execution_count": 3,
   "metadata": {},
   "outputs": [
    {
     "name": "stdout",
     "output_type": "stream",
     "text": [
      "Raka grade: A\n",
      "Hana grade: A\n",
      "Dian grade: D\n"
     ]
    }
   ],
   "source": [
    "def NilaiGrade(nilai):\n",
    "    # guard clause\n",
    "    if nilai < 0 or nilai > 100:\n",
    "        return \"error\"\n",
    "    if nilai >= 80 and nilai <= 100:\n",
    "        return \"A\"\n",
    "    if nilai >= 70 and nilai <= 80:\n",
    "        return \"B\"\n",
    "    if nilai >= 60 and nilai < 70:\n",
    "        return \"C\"\n",
    "    if nilai >= 50 and nilai < 60:\n",
    "        return \"D\"\n",
    "    if nilai <50:\n",
    "        return \"E\"\n",
    "\n",
    "kamus={'Raka':100,'Hana':90,'Dian':55}\n",
    "\n",
    "for key in kamus:\n",
    "    print(f'{key} grade: {NilaiGrade(kamus[key])}')"
   ]
  },
  {
   "cell_type": "code",
   "execution_count": 6,
   "metadata": {},
   "outputs": [
    {
     "data": {
      "text/plain": [
       "dict"
      ]
     },
     "execution_count": 6,
     "metadata": {},
     "output_type": "execute_result"
    }
   ],
   "source": [
    "type(kamus)"
   ]
  },
  {
   "cell_type": "code",
   "execution_count": 7,
   "metadata": {},
   "outputs": [
    {
     "data": {
      "text/plain": [
       "dict_values([100, 90, 55])"
      ]
     },
     "execution_count": 7,
     "metadata": {},
     "output_type": "execute_result"
    }
   ],
   "source": [
    "kamus.values()"
   ]
  },
  {
   "cell_type": "code",
   "execution_count": 9,
   "metadata": {},
   "outputs": [
    {
     "data": {
      "text/plain": [
       "dict_keys(['Raka', 'Hana', 'Dian'])"
      ]
     },
     "execution_count": 9,
     "metadata": {},
     "output_type": "execute_result"
    }
   ],
   "source": [
    "kamus.keys()"
   ]
  },
  {
   "cell_type": "code",
   "execution_count": 10,
   "metadata": {},
   "outputs": [
    {
     "data": {
      "text/plain": [
       "55"
      ]
     },
     "execution_count": 10,
     "metadata": {},
     "output_type": "execute_result"
    }
   ],
   "source": [
    "kamus['Dian']"
   ]
  },
  {
   "cell_type": "markdown",
   "metadata": {},
   "source": [
    "#### **5. Function** ####\n",
    "\n",
    "- Syntax used: \\\n",
    "def function_name(parameters): \\\n",
    "\"docstring\" \\\n",
    "statement(s)\n",
    "\n",
    "*docstring* is short for documentation string, which is used to explain in brief what a function does."
   ]
  },
  {
   "cell_type": "markdown",
   "metadata": {},
   "source": [
    "Using *printme* (as an example of a calling function) means you give the parameters that are to be included in the function and structures the block of code."
   ]
  },
  {
   "cell_type": "code",
   "execution_count": 25,
   "metadata": {},
   "outputs": [
    {
     "name": "stdout",
     "output_type": "stream",
     "text": [
      "I'm first call to user defined function!\n",
      "Again second call to the same function.\n",
      "I'm trying to make codes with python.\n",
      "AAAAAND IT'S ACTUALLY WORKIN', HELL YEAH!\n"
     ]
    }
   ],
   "source": [
    "# Calling a function\n",
    "def printme(str):\n",
    "    \"This prints a passed string into this function\"\n",
    "    print(str)\n",
    "    return\n",
    "\n",
    "# Now you can call printme function\n",
    "printme(\"I'm first call to user defined function!\")\n",
    "printme(\"Again second call to the same function.\")\n",
    "\n",
    "\n",
    "# You can change it besides printme, it's just an example:\n",
    "def hello(text):\n",
    "    \"This is just a try.\"\n",
    "    print(text)\n",
    "    return\n",
    "hello(\"I'm trying to make codes with python.\")\n",
    "hello(\"AAAAAND IT'S ACTUALLY WORKIN', HELL YEAH!\")"
   ]
  },
  {
   "cell_type": "code",
   "execution_count": 1,
   "metadata": {},
   "outputs": [
    {
     "name": "stdout",
     "output_type": "stream",
     "text": [
      "Values inside function:  [10, 20, 30, [1, 2, 3, 4]]\n",
      "Values outside the function:  [10, 20, 30, [1, 2, 3, 4]]\n"
     ]
    }
   ],
   "source": [
    "# All parameters (arguments) in python are passed by reference:\n",
    "\n",
    "def changeme(mylist):\n",
    "    \"This changes a passed list into this function\"\n",
    "    mylist.append([1,2,3,4])\n",
    "    print(\"Values inside function: \", mylist)\n",
    "    return\n",
    "\n",
    "# Now you can call changeme function\n",
    "mylist = [10,20,30];\n",
    "changeme(mylist);\n",
    "print(\"Values outside the function: \", mylist)"
   ]
  },
  {
   "cell_type": "code",
   "execution_count": 19,
   "metadata": {},
   "outputs": [
    {
     "name": "stdout",
     "output_type": "stream",
     "text": [
      "E\n"
     ]
    }
   ],
   "source": [
    "def gradeCalculation(grade):\n",
    "    if 0<=grade <=100:\n",
    "        if grade >= 80 and grade <=100:\n",
    "            x = \"A\"\n",
    "        elif grade >= 70:\n",
    "            x = \"B\"\n",
    "        elif grade >= 60:\n",
    "            x = \"C\"\n",
    "        elif grade >= 50:\n",
    "            x = \"D\"\n",
    "        else:\n",
    "            x = \"E\"\n",
    "        print(x)\n",
    "    else:\n",
    "        print('Grade is not defined.')\n",
    "gradeCalculation(10)"
   ]
  },
  {
   "cell_type": "code",
   "execution_count": 29,
   "metadata": {},
   "outputs": [
    {
     "name": "stdout",
     "output_type": "stream",
     "text": [
      "The area of rectangle with width is 10 and length is 23 : 230\n"
     ]
    }
   ],
   "source": [
    "# Functions with 2 parameters:\n",
    "\n",
    "def area_rectangle(l,w):\n",
    "    A = (l*w)\n",
    "    print(f'The area of rectangle with width is {w} and length is {l} : {A}')\n",
    "\n",
    "area_rectangle(23,10)"
   ]
  },
  {
   "cell_type": "code",
   "execution_count": 30,
   "metadata": {},
   "outputs": [
    {
     "name": "stdout",
     "output_type": "stream",
     "text": [
      "The area of triangle with width is 10 and heignt is 23 : 115.0\n"
     ]
    }
   ],
   "source": [
    "# Functions with 2 parameters:\n",
    "\n",
    "def area_triangle(h,w):\n",
    "    A = (h*w/2)\n",
    "    print(f'The area of triangle with width is {w} and heignt is {h} : {A}')\n",
    "\n",
    "area_triangle(23,10)"
   ]
  },
  {
   "cell_type": "code",
   "execution_count": 37,
   "metadata": {},
   "outputs": [
    {
     "data": {
      "text/plain": [
       "16"
      ]
     },
     "execution_count": 37,
     "metadata": {},
     "output_type": "execute_result"
    }
   ],
   "source": [
    "def area_square(s):\n",
    "    L=s*s\n",
    "    return L\n",
    "\n",
    "area_square(4)"
   ]
  },
  {
   "cell_type": "code",
   "execution_count": 36,
   "metadata": {},
   "outputs": [
    {
     "name": "stdout",
     "output_type": "stream",
     "text": [
      "area of the square: 25\n"
     ]
    }
   ],
   "source": [
    "print(f\"area of the square: %d\" % area_square(5))"
   ]
  },
  {
   "cell_type": "markdown",
   "metadata": {},
   "source": [
    "**Solve this problem:**\n",
    "Make a function to show the name of city. You'll be given a list of cities' name."
   ]
  },
  {
   "cell_type": "code",
   "execution_count": 60,
   "metadata": {},
   "outputs": [
    {
     "name": "stdout",
     "output_type": "stream",
     "text": [
      "Data is not available.\n"
     ]
    }
   ],
   "source": [
    "city_name=[]\n",
    "\n",
    "def city_lookup():\n",
    "    if len(city_name)<=0:\n",
    "        print(\"Data is not available.\")\n",
    "    else:\n",
    "        for i in range(len(city_name)):\n",
    "            print(\"[%d] %s\" % (i, city_name[i]))\n",
    "\n",
    "city_lookup()"
   ]
  },
  {
   "cell_type": "markdown",
   "metadata": {},
   "source": [
    "**Pass by referece vs value:** all parameters (arguments) in python are passed by reference. For example:"
   ]
  },
  {
   "cell_type": "code",
   "execution_count": 76,
   "metadata": {},
   "outputs": [
    {
     "name": "stdout",
     "output_type": "stream",
     "text": [
      "Values inside the function:  [10, 20, 30, [1, 2, 3, 4]]\n",
      "Value outside the function:  [10, 20, 30, [1, 2, 3, 4]]\n"
     ]
    }
   ],
   "source": [
    "# Function definition\n",
    "def changeme(mylist):\n",
    "    \"This changes a passed list into this function\"\n",
    "    mylist.append([1,2,3,4])\n",
    "    print(\"Values inside the function: \", mylist)\n",
    "    return\n",
    "\n",
    "# Now you can call changeme function\n",
    "mylist = [10,20,30];\n",
    "changeme(mylist);\n",
    "print(\"Value outside the function: \", mylist)"
   ]
  },
  {
   "cell_type": "code",
   "execution_count": 6,
   "metadata": {},
   "outputs": [
    {
     "name": "stdout",
     "output_type": "stream",
     "text": [
      "foo\n",
      "foo\n"
     ]
    }
   ],
   "source": [
    "# Pass Statement\n",
    "if True:\n",
    "    print('foo') # the presentation mentioned this code will be an error, but how\n",
    "\n",
    "if True:\n",
    "    pass\n",
    "print('foo')"
   ]
  },
  {
   "cell_type": "markdown",
   "metadata": {},
   "source": [
    "#### **6. Modules Modular Programming** ####\n",
    "\n",
    "Modular programming makes the process of large and unwidely programming task into seperate, smaller, and manageable subtasks, that's why it's called **modules**.\n",
    "\n",
    "It's more like individual modules, cobbled together like building bricks to create a wall. Bunch of small modules into a whole and big application.\n",
    "- Simplicity\n",
    "- Maintainability\n",
    "- Reusable\n",
    "- Scoping"
   ]
  },
  {
   "cell_type": "code",
   "execution_count": 8,
   "metadata": {},
   "outputs": [],
   "source": [
    "# Create a file called mod.py containing the following:\n",
    "s = \"Hacktiv8-FTP Python For Data Science\"\n",
    "a = [100, 200, 300]\n",
    "\n",
    "def foo(arg):\n",
    "    print(f'arg={arg}')\n",
    "\n",
    "    class Foo:\n",
    "        pass"
   ]
  },
  {
   "cell_type": "code",
   "execution_count": 9,
   "metadata": {},
   "outputs": [
    {
     "name": "stdout",
     "output_type": "stream",
     "text": [
      "Hacktiv8-FTP Python For Data Science\n",
      "[100, 200, 300]\n",
      "arg=['quux', 'corge', 'grault']\n"
     ]
    },
    {
     "ename": "AttributeError",
     "evalue": "module 'mod' has no attribute 'Foo'",
     "output_type": "error",
     "traceback": [
      "\u001b[1;31m---------------------------------------------------------------------------\u001b[0m",
      "\u001b[1;31mAttributeError\u001b[0m                            Traceback (most recent call last)",
      "Cell \u001b[1;32mIn [9], line 6\u001b[0m\n\u001b[0;32m      4\u001b[0m \u001b[38;5;28mprint\u001b[39m(mod\u001b[38;5;241m.\u001b[39ma)\n\u001b[0;32m      5\u001b[0m mod\u001b[38;5;241m.\u001b[39mfoo([\u001b[38;5;124m'\u001b[39m\u001b[38;5;124mquux\u001b[39m\u001b[38;5;124m'\u001b[39m,\u001b[38;5;124m'\u001b[39m\u001b[38;5;124mcorge\u001b[39m\u001b[38;5;124m'\u001b[39m,\u001b[38;5;124m'\u001b[39m\u001b[38;5;124mgrault\u001b[39m\u001b[38;5;124m'\u001b[39m])\n\u001b[1;32m----> 6\u001b[0m x \u001b[38;5;241m=\u001b[39m mod\u001b[38;5;241m.\u001b[39mFoo()\n\u001b[0;32m      7\u001b[0m \u001b[38;5;28mprint\u001b[39m(x)\n",
      "\u001b[1;31mAttributeError\u001b[0m: module 'mod' has no attribute 'Foo'"
     ]
    }
   ],
   "source": [
    "# Assuming mod.py is in an appropriate location, these objects can be accessed by importing modules as follows:\n",
    "import mod\n",
    "print(mod.s)\n",
    "print(mod.a)\n",
    "mod.foo(['quux','corge','grault'])\n",
    "x = mod.Foo()\n",
    "print(x)"
   ]
  },
  {
   "cell_type": "markdown",
   "metadata": {},
   "source": [
    "#### **7. Packages** ####\n",
    "\n",
    "Packages allow for a hierarchical structuring of the module namespace using dot notation."
   ]
  }
 ],
 "metadata": {
  "kernelspec": {
   "display_name": "Python 3.9.5 64-bit",
   "language": "python",
   "name": "python3"
  },
  "language_info": {
   "codemirror_mode": {
    "name": "ipython",
    "version": 3
   },
   "file_extension": ".py",
   "mimetype": "text/x-python",
   "name": "python",
   "nbconvert_exporter": "python",
   "pygments_lexer": "ipython3",
   "version": "3.9.5"
  },
  "orig_nbformat": 4,
  "vscode": {
   "interpreter": {
    "hash": "c347c8f9a7ef94e4c9e03b4513be7835ed18f45b99a2a817fb579f408b867b16"
   }
  }
 },
 "nbformat": 4,
 "nbformat_minor": 2
}
