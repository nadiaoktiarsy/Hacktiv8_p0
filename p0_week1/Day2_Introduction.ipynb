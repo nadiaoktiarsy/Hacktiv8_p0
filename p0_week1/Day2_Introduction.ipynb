{
 "cells": [
  {
   "cell_type": "markdown",
   "metadata": {},
   "source": [
    "# PYTHON PRACTICE WEEK 1, DAY 2 #\n",
    "## How to write codes with python will start from now on! ##\n",
    "\n",
    "Also, remember how to make markdown, which is like how html works If you don't really use any hastags, you won't make any **titles**, subtitles, subsubtitles, *subsubsubtitles*, whatever-titles until you get tired and texts.\n",
    "\n",
    "- Go and check out how to write html\n",
    "- Visit **holypython.com** for more practices\n",
    "\n",
    "This file is written on Visual Studio Code, powered by Jupyter Notebook."
   ]
  },
  {
   "cell_type": "markdown",
   "metadata": {},
   "source": [
    "#### 1.Single, double, and triple string ####\n",
    "All of words/phrases are inside the string ' ' or \"\"."
   ]
  },
  {
   "cell_type": "code",
   "execution_count": 23,
   "metadata": {},
   "outputs": [
    {
     "name": "stdout",
     "output_type": "stream",
     "text": [
      "Hello, world!\n",
      "Nadia Oktiarsy\n",
      "Nadia\n",
      "Oktiarsy\n",
      "Nadia Oktiarsy\n"
     ]
    }
   ],
   "source": [
    "print('Hello, world!')\n",
    "print(\"Nadia Oktiarsy\")\n",
    "\n",
    "## difference on printing\n",
    "print('''Nadia\n",
    "Oktiarsy''')\n",
    "print('''Nadia \\\n",
    "Oktiarsy''')"
   ]
  },
  {
   "cell_type": "code",
   "execution_count": 24,
   "metadata": {},
   "outputs": [
    {
     "name": "stdout",
     "output_type": "stream",
     "text": [
      "okti23\n",
      "okti 23\n"
     ]
    }
   ],
   "source": [
    "print('okti' + '23')\n",
    "\n",
    "print(\"okti\",23)"
   ]
  },
  {
   "cell_type": "markdown",
   "metadata": {},
   "source": [
    "#### 2. Interger ####\n",
    "\n",
    "You can't mix between strings and integers. Integers are usually the exact numbers."
   ]
  },
  {
   "cell_type": "code",
   "execution_count": 1,
   "metadata": {},
   "outputs": [
    {
     "name": "stdout",
     "output_type": "stream",
     "text": [
      "330.0\n"
     ]
    }
   ],
   "source": [
    "## To print the results of triangle's area\n",
    "'''\n",
    "Calculate the area of triangle,\n",
    "of the length is 22,\n",
    "and height 30\n",
    "'''\n",
    "\n",
    "print((22*30)/2)"
   ]
  },
  {
   "cell_type": "markdown",
   "metadata": {},
   "source": [
    "### 3. Boolean ###\n",
    "\n",
    "True and False statements."
   ]
  },
  {
   "cell_type": "code",
   "execution_count": 26,
   "metadata": {},
   "outputs": [
    {
     "name": "stdout",
     "output_type": "stream",
     "text": [
      "True\n",
      "True\n",
      "False\n",
      "True\n",
      "False\n",
      "False\n"
     ]
    }
   ],
   "source": [
    "print(bool('hello'))\n",
    "print(bool(1))\n",
    "print(bool(False))\n",
    "print(bool(True))\n",
    "print(bool(''))\n",
    "print(bool(0))"
   ]
  },
  {
   "cell_type": "markdown",
   "metadata": {},
   "source": [
    "#### 4. Checking type of data ####\n",
    "To check your type of codes, which will be shown as classes."
   ]
  },
  {
   "cell_type": "code",
   "execution_count": 27,
   "metadata": {},
   "outputs": [
    {
     "name": "stdout",
     "output_type": "stream",
     "text": [
      "<class 'int'>\n",
      "<class 'bool'>\n",
      "<class 'float'>\n",
      "<class 'str'>\n",
      "<class 'list'>\n"
     ]
    }
   ],
   "source": [
    "print(type(0))\n",
    "print(type(True))\n",
    "print(type(4.5))\n",
    "print(type('okti'))\n",
    "print(type(['nadia','okti','nao']))"
   ]
  },
  {
   "cell_type": "markdown",
   "metadata": {},
   "source": [
    "#### 5. Variables ####\n",
    "You give the aliases for the data you want to use.\n",
    "- Remember not to use variables started with numbers.\n",
    "For example which doesn't work:\n",
    "3_variable"
   ]
  },
  {
   "cell_type": "code",
   "execution_count": 28,
   "metadata": {},
   "outputs": [
    {
     "ename": "SyntaxError",
     "evalue": "invalid decimal literal (359353792.py, line 9)",
     "output_type": "error",
     "traceback": [
      "\u001b[1;36m  Cell \u001b[1;32mIn [28], line 9\u001b[1;36m\u001b[0m\n\u001b[1;33m    3_variable = \"3\"\u001b[0m\n\u001b[1;37m     ^\u001b[0m\n\u001b[1;31mSyntaxError\u001b[0m\u001b[1;31m:\u001b[0m invalid decimal literal\n"
     ]
    }
   ],
   "source": [
    "name = \"Nadia Oktiarsy\"\n",
    "height = \"165\"\n",
    "background_study_undergraduate = \"University of Indonesia\"\n",
    "background_study_graduate = \"The University of Tokyo\"\n",
    "\n",
    "print(type(background_study_graduate))\n",
    "print(name+\" \"+background_study_undergraduate)\n",
    "\n",
    "3_variable = \"3\""
   ]
  },
  {
   "cell_type": "code",
   "execution_count": 108,
   "metadata": {},
   "outputs": [],
   "source": [
    "# camel case\n",
    "myVariableName = \"Zhongli\"\n",
    "\n",
    "# pascal case\n",
    "MyVariableName= 'Ganyu'\n",
    "\n",
    "# snake case\n",
    "my_variable_name = \"Tartaglia\""
   ]
  },
  {
   "cell_type": "markdown",
   "metadata": {},
   "source": [
    "#### 6. Casting ####\n",
    "If you want to change float to integer, or integer to float."
   ]
  },
  {
   "cell_type": "code",
   "execution_count": null,
   "metadata": {},
   "outputs": [
    {
     "name": "stdout",
     "output_type": "stream",
     "text": [
      "20.0\n",
      "20\n"
     ]
    }
   ],
   "source": [
    "num_int = 20\n",
    "print(float(num_int))\n",
    "\n",
    "num_flt = 20.14354365\n",
    "print(int(num_flt))"
   ]
  },
  {
   "cell_type": "code",
   "execution_count": 33,
   "metadata": {},
   "outputs": [
    {
     "name": "stdout",
     "output_type": "stream",
     "text": [
      "2498\n",
      "2498.324\n"
     ]
    }
   ],
   "source": [
    "# If you want to round the number\n",
    "y = 2498.3243235\n",
    "x = round(y)\n",
    "print(x)\n",
    "\n",
    "# Add coma and value you want to round\n",
    "y = 2498.3243235\n",
    "x = round(y,3)\n",
    "print(x)"
   ]
  },
  {
   "cell_type": "code",
   "execution_count": null,
   "metadata": {},
   "outputs": [],
   "source": []
  },
  {
   "cell_type": "markdown",
   "metadata": {},
   "source": [
    "#### 7. Operators Arithmetic ####"
   ]
  },
  {
   "cell_type": "code",
   "execution_count": null,
   "metadata": {},
   "outputs": [
    {
     "name": "stdout",
     "output_type": "stream",
     "text": [
      "30\n",
      "0.5\n",
      "0\n",
      "10\n",
      "100000000000000000000\n"
     ]
    }
   ],
   "source": [
    "a = 10\n",
    "b = 20\n",
    "print(a+b)\n",
    "print(a/b) #float\n",
    "print(a//b) #integer\n",
    "print(a%b)\n",
    "print(a**b)\n"
   ]
  },
  {
   "cell_type": "markdown",
   "metadata": {},
   "source": [
    "#### 8. Comparison ####"
   ]
  },
  {
   "cell_type": "code",
   "execution_count": 35,
   "metadata": {},
   "outputs": [
    {
     "name": "stdout",
     "output_type": "stream",
     "text": [
      "40\n",
      "False\n",
      "False\n",
      "True\n",
      "True\n"
     ]
    }
   ],
   "source": [
    "a = 40\n",
    "b = 30\n",
    "print(a)\n",
    "print(a==b)\n",
    "print(a<=b)\n",
    "print(a>=b)\n",
    "print(a!=b)"
   ]
  },
  {
   "cell_type": "markdown",
   "metadata": {},
   "source": [
    "#### 9. String Manipulation ####\n",
    "If you want to change or manipulate strings, for example, to capitalize the string."
   ]
  },
  {
   "cell_type": "code",
   "execution_count": 39,
   "metadata": {},
   "outputs": [
    {
     "name": "stdout",
     "output_type": "stream",
     "text": [
      "Nadia oktiarsy\n",
      "nadia oktiarsy\n",
      "NADIA OKTIARSY\n",
      "-----------------------------------\n",
      "----------------------------------------\n",
      "NAdia Oktiarsy\n"
     ]
    }
   ],
   "source": [
    "name_capital = \"NAdia Oktiarsy\"\n",
    "print(name_capital.capitalize())\n",
    "print(name_capital.lower())\n",
    "print(name_capital.upper())\n",
    "print('-----------------------------------') # writing this will waste time\n",
    "print('-'*40)\n",
    "print(name_capital)"
   ]
  },
  {
   "cell_type": "markdown",
   "metadata": {},
   "source": [
    "#### 10. Slicing ####\n",
    "The usage of two-dots : or COLON, is to show from the start, until the end of the element of string or integers. \n",
    "\n",
    "! This will be frequently used."
   ]
  },
  {
   "cell_type": "code",
   "execution_count": 52,
   "metadata": {},
   "outputs": [
    {
     "name": "stdout",
     "output_type": "stream",
     "text": [
      "N\n",
      "a\n",
      "Nadia Oktiarsy\n",
      "Na\n",
      "a\n",
      "adi\n",
      "ai\n",
      "ars\n"
     ]
    }
   ],
   "source": [
    "print(name[0])\n",
    "print(name[1])\n",
    "print(name[:])\n",
    "print(name[:2])\n",
    "print(name[1:2])\n",
    "print(name[1:4])\n",
    "print(name[1:4:2])\n",
    "print(name[-4:-1])"
   ]
  },
  {
   "cell_type": "markdown",
   "metadata": {},
   "source": [
    "#### 11. Formatting ####\n",
    "Syntax will be: *string*.format(value1,value2)"
   ]
  },
  {
   "cell_type": "code",
   "execution_count": 59,
   "metadata": {},
   "outputs": [
    {
     "name": "stdout",
     "output_type": "stream",
     "text": [
      "My name is Nadia Oktiarsy, I am 28 years old.\n",
      "my name is Nadia Oktiarsy, im 28 years old.\n",
      "MY name is 28, IM Nadia Oktiarsy years old.\n",
      "MY name is Nadia Oktiarsy, IM 28 years old.\n",
      "MY name is 28, IM Nadia Oktiarsy years old.\n"
     ]
    }
   ],
   "source": [
    "name = \"Nadia Oktiarsy\"\n",
    "age = 28\n",
    "print('My name is '+ name + ', I am ' + str(age) + ' years old.')\n",
    "print(f'my name is {name}, im {age} years old.')\n",
    "print('MY name is {}, IM {} years old.'.format(age,name))\n",
    "print('MY name is {1}, IM {0} years old.'.format(age,name))\n",
    "print('MY name is {0}, IM {1} years old.'.format(age,name))"
   ]
  },
  {
   "cell_type": "markdown",
   "metadata": {},
   "source": [
    "#### 12. Listing ####\n"
   ]
  },
  {
   "cell_type": "code",
   "execution_count": 74,
   "metadata": {},
   "outputs": [
    {
     "name": "stdout",
     "output_type": "stream",
     "text": [
      "['motor', 'car', 'bus', 'bicycle', 'train']\n",
      "['bus', 'bicycle', 'train']\n",
      "5\n"
     ]
    }
   ],
   "source": [
    "listTransportationModes = ['motor','car','bus','bicycle','train']\n",
    "print(listTransportationModes)\n",
    "print(listTransportationModes[2:5])\n",
    "print(len(listTransportationModes))"
   ]
  },
  {
   "cell_type": "code",
   "execution_count": 75,
   "metadata": {},
   "outputs": [
    {
     "name": "stdout",
     "output_type": "stream",
     "text": [
      "['motor', 'car', 'bus', 'bicycle', 'train']\n",
      "['motor', 'car', 'MRT', 'bicycle', 'train']\n",
      "['motor', 'car', 'LRT', 'train']\n"
     ]
    }
   ],
   "source": [
    "# Changing value in a list\n",
    "print(listTransportationModes)\n",
    "listTransportationModes[2]=\"MRT\"\n",
    "print(listTransportationModes)\n",
    "listTransportationModes[2:4]=[\"LRT\"]\n",
    "print(listTransportationModes)"
   ]
  },
  {
   "cell_type": "code",
   "execution_count": 88,
   "metadata": {},
   "outputs": [
    {
     "name": "stdout",
     "output_type": "stream",
     "text": [
      "['mmm', 'sss', 'qqq', 'zzz', 'nnn', 'ddd', ['www', 'jjj', 'kkk']]\n",
      "['www', 'jjj', 'kkk', 'mmm', 'sss', 'qqq', 'zzz', 'nnn', 'ddd', [...]]\n"
     ]
    }
   ],
   "source": [
    "# Using append and extend\n",
    "list_1 = ['mmm','sss','qqq','zzz','nnn','ddd']\n",
    "list_2 = ['www','jjj','kkk']\n",
    "list_1.append(list_2)\n",
    "print(list_1)\n",
    "\n",
    "list_2.extend(list_1)\n",
    "print(list_2)"
   ]
  },
  {
   "cell_type": "code",
   "execution_count": 87,
   "metadata": {},
   "outputs": [
    {
     "ename": "NameError",
     "evalue": "name 'list_1' is not defined",
     "output_type": "error",
     "traceback": [
      "\u001b[1;31m---------------------------------------------------------------------------\u001b[0m",
      "\u001b[1;31mNameError\u001b[0m                                 Traceback (most recent call last)",
      "Cell \u001b[1;32mIn [87], line 1\u001b[0m\n\u001b[1;32m----> 1\u001b[0m list_1\u001b[38;5;241m.\u001b[39mpop(\u001b[38;5;241m1\u001b[39m)\n\u001b[0;32m      2\u001b[0m \u001b[38;5;28mprint\u001b[39m(list_1)\n\u001b[0;32m      4\u001b[0m \u001b[38;5;66;03m#delete list_1[1]\u001b[39;00m\n",
      "\u001b[1;31mNameError\u001b[0m: name 'list_1' is not defined"
     ]
    }
   ],
   "source": [
    "list_1.pop(1)\n",
    "print(list_1)\n",
    "\n",
    "#delete list_1[1]\n",
    "del list_1\n",
    "print(list_1)"
   ]
  },
  {
   "cell_type": "markdown",
   "metadata": {},
   "source": [
    "#### 13. ASCII characters"
   ]
  },
  {
   "cell_type": "code",
   "execution_count": 93,
   "metadata": {},
   "outputs": [
    {
     "name": "stdout",
     "output_type": "stream",
     "text": [
      "b\n",
      "1\n",
      "['1', '2', '7865', 'C', 'a', 'b']\n"
     ]
    }
   ],
   "source": [
    "# number -> large characters -> small characters\n",
    "a=['a','b','C','1','2','7865']\n",
    "print(max(a))\n",
    "print(min(a))\n",
    "\n",
    "a.sort()\n",
    "print(a)"
   ]
  },
  {
   "cell_type": "markdown",
   "metadata": {},
   "source": [
    "#### 14. Tuple ####"
   ]
  },
  {
   "cell_type": "code",
   "execution_count": 95,
   "metadata": {},
   "outputs": [
    {
     "name": "stdout",
     "output_type": "stream",
     "text": [
      "('motor', 'car', 'bus', 'bicycle', 'train')\n"
     ]
    }
   ],
   "source": [
    "tupleTransportation = ('motor','car','bus','bicycle','train')\n",
    "print(tupleTransportation)"
   ]
  },
  {
   "cell_type": "code",
   "execution_count": 98,
   "metadata": {},
   "outputs": [
    {
     "name": "stdout",
     "output_type": "stream",
     "text": [
      "['motor', 'car', 'ship', 'bicycle', 'train']\n"
     ]
    }
   ],
   "source": [
    "listTransportationModes_2 = list(tupleTransportation)\n",
    "listTransportationModes_2[2] = 'ship'\n",
    "print(listTransportationModes_2)\n",
    "tupleTransportation = tuple(listTransportationModes_2)"
   ]
  },
  {
   "cell_type": "markdown",
   "metadata": {},
   "source": [
    "#### 15. Set ####\n",
    "Set has a characteristic such as unordered and non-indexed."
   ]
  },
  {
   "cell_type": "code",
   "execution_count": 100,
   "metadata": {},
   "outputs": [
    {
     "name": "stdout",
     "output_type": "stream",
     "text": [
      "{'car', 'bicycle', 'train', 'bus', 'motor'}\n",
      "{'car', 'bicycle', 'train', 'bus', 'motor', 'ship'}\n"
     ]
    }
   ],
   "source": [
    "mySet = {'motor','car','bus','bicycle','train'}\n",
    "print(mySet)\n",
    "\n",
    "mySet.add('ship')\n",
    "print(mySet)"
   ]
  },
  {
   "cell_type": "markdown",
   "metadata": {},
   "source": [
    "#### 16. Dictionaries ####\n",
    "This one is frequently used, and catagorized as ordered for python new version.\n",
    "\n",
    "- .keys is ...?\n",
    "- .values is ...?"
   ]
  },
  {
   "cell_type": "code",
   "execution_count": 109,
   "metadata": {},
   "outputs": [
    {
     "name": "stdout",
     "output_type": "stream",
     "text": [
      "{'Price': 7000, 'Product': 'Water Mineral', 'Brand Name': 'Aqua'}\n",
      "dict_keys(['Price', 'Product', 'Brand Name'])\n",
      "dict_values([7000, 'Water Mineral', 'Aqua'])\n",
      "dict_items([('Price', 7000), ('Product', 'Water Mineral'), ('Brand Name', 'Aqua')])\n"
     ]
    }
   ],
   "source": [
    "myDict = {\n",
    "    'Price'          : 7000,\n",
    "    'Product'        : 'Water Mineral',\n",
    "    'Brand Name'     : 'Aqua'\n",
    "}\n",
    "\n",
    "print(myDict)\n",
    "print(myDict.keys())\n",
    "print(myDict.values())\n",
    "print(myDict.items())"
   ]
  },
  {
   "cell_type": "code",
   "execution_count": 106,
   "metadata": {},
   "outputs": [
    {
     "name": "stdout",
     "output_type": "stream",
     "text": [
      "7000\n",
      "7000\n"
     ]
    }
   ],
   "source": [
    "print(myDict['Price'])\n",
    "print(myDict.get('Price'))"
   ]
  },
  {
   "cell_type": "code",
   "execution_count": 123,
   "metadata": {},
   "outputs": [
    {
     "name": "stdout",
     "output_type": "stream",
     "text": [
      "{'Price': 7000, 'Product': 'Water Mineral', 'Brand Name': 'Aqua', 'length': 15}\n",
      "{'Price': 7000, 'Product': 'Water Mineral', 'Brand Name': 'Aqua'}\n",
      "{1: {'name': 'Zhongli', 'Age': '6000', 'gender': 'male'}, 2: {'name': 'Raiden Mei', 'Age': '1000', 'gender': 'female'}}\n",
      "Raiden Mei\n"
     ]
    }
   ],
   "source": [
    "# Adding dictionary\n",
    "myDict['length'] = 15\n",
    "print(myDict)\n",
    "\n",
    "# Deleting dictionary\n",
    "myDict.pop('length')\n",
    "print(myDict)\n",
    "\n",
    "people= {\n",
    "        1: {'name': 'Zhongli', 'Age': '6000', 'gender':'male'},\n",
    "        2: {'name': 'Raiden Mei', 'Age':'1000', 'gender':'female'}\n",
    "        }\n",
    "print(people)\n",
    "print(people[2]['name'])\n"
   ]
  }
 ],
 "metadata": {
  "kernelspec": {
   "display_name": "Python 3.9.5 64-bit",
   "language": "python",
   "name": "python3"
  },
  "language_info": {
   "codemirror_mode": {
    "name": "ipython",
    "version": 3
   },
   "file_extension": ".py",
   "mimetype": "text/x-python",
   "name": "python",
   "nbconvert_exporter": "python",
   "pygments_lexer": "ipython3",
   "version": "3.9.5"
  },
  "orig_nbformat": 4,
  "vscode": {
   "interpreter": {
    "hash": "c347c8f9a7ef94e4c9e03b4513be7835ed18f45b99a2a817fb579f408b867b16"
   }
  }
 },
 "nbformat": 4,
 "nbformat_minor": 2
}
