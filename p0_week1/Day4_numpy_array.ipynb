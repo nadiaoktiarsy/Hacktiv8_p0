{
  "cells": [
    {
      "cell_type": "markdown",
      "metadata": {
        "id": "u7fb2b_bcmLR"
      },
      "source": [
        "## Latihan Numpy \n"
      ]
    },
    {
      "cell_type": "code",
      "execution_count": null,
      "metadata": {
        "id": "trMq9Uk5cmLV"
      },
      "outputs": [],
      "source": [
        "#Import Library\n"
      ]
    },
    {
      "cell_type": "code",
      "execution_count": null,
      "metadata": {
        "id": "SmvDl-10cmLW"
      },
      "outputs": [],
      "source": [
        "# Perubahan dari List ke Array\n",
        "# np.array()\n",
        "\n",
        "\n",
        "#Membuat array menggunakan np.arange\n"
      ]
    },
    {
      "cell_type": "code",
      "execution_count": null,
      "metadata": {
        "id": "83zSuu09cmLX"
      },
      "outputs": [],
      "source": [
        "# Membuat Array 2D/Matrix\n",
        "# Lihat seberapa banyak kurung siku di awal untuk menentukan jumlah dimensi atau .ndim\n",
        "\n",
        "\n"
      ]
    },
    {
      "cell_type": "code",
      "source": [
        "#Membuat array N-Dimensi\n"
      ],
      "metadata": {
        "id": "IL34uXP9X_P8"
      },
      "execution_count": null,
      "outputs": []
    },
    {
      "cell_type": "code",
      "execution_count": null,
      "metadata": {
        "id": "323Y5JEGcmLX"
      },
      "outputs": [],
      "source": [
        "#Menentukan ukuran suatu array\n",
        "#.shape\n"
      ]
    },
    {
      "cell_type": "code",
      "execution_count": null,
      "metadata": {
        "id": "CcfStXT0cmLY"
      },
      "outputs": [],
      "source": [
        "#Menentukan jumlah total elemen suatu array\n",
        "#.size\n"
      ]
    },
    {
      "cell_type": "code",
      "execution_count": null,
      "metadata": {
        "id": "FAM9pgfpcmLY"
      },
      "outputs": [],
      "source": [
        "#Indexing & Slicing\n",
        "# [START : END - 1 : STEP]\n",
        "\n",
        "#Mengubah urutan array 1D dari belakang ke depan (Descending)\n"
      ]
    },
    {
      "cell_type": "markdown",
      "metadata": {
        "id": "2gpK6-h1cmLY"
      },
      "source": [
        "**NOMOR 1**\n",
        "\n",
        "Buatlah sebuah array seperti dibawah ini dan tambahkan setiap elemennya dengan `1`.\n",
        "\n",
        "```\n",
        "a = [10, 20, 30, 40, 50]\n",
        "```"
      ]
    },
    {
      "cell_type": "code",
      "source": [],
      "metadata": {
        "id": "IhwCNQy5ZP3G"
      },
      "execution_count": null,
      "outputs": []
    },
    {
      "cell_type": "code",
      "execution_count": null,
      "metadata": {
        "id": "6tPkqOF_cmLZ"
      },
      "outputs": [],
      "source": [
        "#Cara 1 : Menambahkan dengan bil. skalar\n",
        "\n"
      ]
    },
    {
      "cell_type": "code",
      "execution_count": null,
      "metadata": {
        "id": "6CWP_uutcmLa"
      },
      "outputs": [],
      "source": [
        "# Cara 2 : Menambahkan dengan \"Special Array\"\n",
        "#np.ones()\n",
        "\n",
        "#np.zeros()\n"
      ]
    },
    {
      "cell_type": "markdown",
      "metadata": {
        "id": "2T15lXtucmLa"
      },
      "source": [
        "**NOMOR 2**\n",
        "\n",
        "Buatlah sebuah array seperti dibawah ini dan keluarkan element yang bernilai negatif.\n",
        "\n",
        "```\n",
        "b = [-3, 0, -2, 1, 2, 3, -4]\n",
        "```"
      ]
    },
    {
      "cell_type": "code",
      "execution_count": null,
      "metadata": {
        "id": "apFuZ2g-cmLa"
      },
      "outputs": [],
      "source": [
        "#Buat array\n"
      ]
    },
    {
      "cell_type": "code",
      "execution_count": null,
      "metadata": {
        "id": "NsTUVNIGcmLa"
      },
      "outputs": [],
      "source": [
        "# Jika `b < 0` maka hanya akan dilakukan pengecekan apakah element di `b` kurang dari 0 atau tidak\n"
      ]
    },
    {
      "cell_type": "code",
      "execution_count": null,
      "metadata": {
        "id": "TLc4J5GxcmLb"
      },
      "outputs": [],
      "source": [
        "# Jika `b[b < 0]` maka element di `b` kurang dari 0 akan ditampilkan\n"
      ]
    },
    {
      "cell_type": "markdown",
      "metadata": {
        "id": "iTV0p0tecmLb"
      },
      "source": [
        "**NOMOR 3**\n",
        "\n",
        "Buatlah sebuah array seperti dibawah ini. Keluarkan element yang bernilai positif kemudian urutkan dari nilai yang kecil ke besar\n",
        "\n",
        "```\n",
        "c = [10, -8, 4, 5, -41, 7, 5, -4]\n",
        "```"
      ]
    },
    {
      "cell_type": "code",
      "execution_count": null,
      "metadata": {
        "id": "mEay01UEcmLb"
      },
      "outputs": [],
      "source": [
        "#Buat array\n"
      ]
    },
    {
      "cell_type": "code",
      "execution_count": null,
      "metadata": {
        "id": "jXJekUMWcmLb"
      },
      "outputs": [],
      "source": [
        "# Sort elemen dari bilangan kecil ke besar\n",
        "#np.sort(nama_array)\n"
      ]
    },
    {
      "cell_type": "code",
      "execution_count": null,
      "metadata": {
        "id": "z_cqU76fcmLb"
      },
      "outputs": [],
      "source": [
        "# Sort elemen dari bilangan besar ke kecil\n",
        "#sort dan Slicing dengan step = -1\n"
      ]
    },
    {
      "cell_type": "markdown",
      "metadata": {
        "id": "cUapjHxZcmLc"
      },
      "source": [
        "**NOMOR 4**\n",
        "\n",
        "Buatlah array seperti dibawah ini kemudian tumpukkan secara horizontal dan vertikal satu sama lain.\n",
        "\n",
        "```\n",
        "d = [1, 2, 3, 4, 5]\n",
        "e = [6, 7, 8, 9, 10]\n",
        "```"
      ]
    },
    {
      "cell_type": "code",
      "execution_count": null,
      "metadata": {
        "id": "zc2zgzt8cmLc"
      },
      "outputs": [],
      "source": [
        "#Buat array\n",
        "\n"
      ]
    },
    {
      "cell_type": "code",
      "execution_count": null,
      "metadata": {
        "id": "YWdagAgScmLc"
      },
      "outputs": [],
      "source": [
        "#Stacking Horizontal -> np.hstack((array1,array2))\n",
        "#Stacking Vertikal -> np.vstack((array1,array2))\n",
        "\n"
      ]
    },
    {
      "cell_type": "markdown",
      "metadata": {
        "id": "nNGGJxfWcmLc"
      },
      "source": [
        "**NOMOR 5**\n",
        "\n",
        "Buatlah dua buah array seperti dibawah ini yang berasal dari 1 deklarasi variabel yang sama. Kemudian, kalikan array pertama dengan `2` dan kalikan array kedua dengan `3`.\n",
        "\n",
        "```\n",
        "f = [10, 20, 30, 40, 50]\n",
        "```\n",
        "\n",
        "Ekspektasi output : \n",
        "```\n",
        "hasil perkalian dengan 2 -> [20, 40, 60, 80, 100] \n",
        "hasil perkalian dengan 3 -> [30, 60, 90, 120, 150]\n",
        "```"
      ]
    },
    {
      "cell_type": "code",
      "execution_count": null,
      "metadata": {
        "id": "JucB5Ec9cmLc"
      },
      "outputs": [],
      "source": [
        "#Buat array f\n",
        "\n"
      ]
    },
    {
      "cell_type": "code",
      "execution_count": null,
      "metadata": {
        "id": "C7Zd9-T8cmLd"
      },
      "outputs": [],
      "source": [
        "#Copy array f ke variabel baru\n",
        "\n"
      ]
    },
    {
      "cell_type": "code",
      "execution_count": null,
      "metadata": {
        "id": "hcdylbuncmLd"
      },
      "outputs": [],
      "source": [
        "#Kalikan masing2 variabel\n",
        "\n"
      ]
    },
    {
      "cell_type": "markdown",
      "metadata": {
        "id": "S1uAzp77cmLd"
      },
      "source": [
        "**NOMOR 6**\n",
        "\n",
        "Buatlah sebuah array seperti dibawah ini dan hitung total jumlahnya.\n",
        "\n",
        "```\n",
        "h = [1, 2, 3, 4, 5]\n",
        "j = [ [1, 2, 3],\n",
        "      [4, 5, 6]]\n",
        "```\n",
        "\n",
        "Ekspektasi output :\n",
        "\n",
        "```\n",
        "total nilai h = 15\n",
        "total nilai j berdasarkan penjumlahan baris = [6, 15]\n",
        "total nilai j berdasarkan penjumlahan kolom = [5, 7, 9]\n",
        "```"
      ]
    },
    {
      "cell_type": "code",
      "execution_count": null,
      "metadata": {
        "id": "z08nMB1vcmLd"
      },
      "outputs": [],
      "source": [
        "#Buat array\n",
        "\n"
      ]
    },
    {
      "cell_type": "code",
      "execution_count": null,
      "metadata": {
        "id": "n65p6pDXcmLd"
      },
      "outputs": [],
      "source": [
        "#jumlahkan array h\n",
        "#.sum()\n",
        "\n"
      ]
    },
    {
      "cell_type": "code",
      "execution_count": null,
      "metadata": {
        "id": "ASk5g1VwcmLd"
      },
      "outputs": [],
      "source": [
        "#Penjumlahan berdasarkan baris\n",
        "#baris -> axis = 1\n",
        "\n"
      ]
    },
    {
      "cell_type": "code",
      "execution_count": null,
      "metadata": {
        "id": "Jrm1Jr5icmLd"
      },
      "outputs": [],
      "source": [
        "#Penjumlahan berdasarkan kolom\n",
        "# kolom -> axis = 0\n",
        "\n",
        "\n"
      ]
    },
    {
      "cell_type": "markdown",
      "metadata": {
        "id": "KTsEE9GvcmLd"
      },
      "source": [
        "**NOMOR 7**\n",
        "\n",
        "Buatlah sebuah array seperti dibawah ini dan cari nilai `min`, `max`, dan `sum` per baris dan per kolom.\n",
        "\n",
        "```\n",
        "k = [ [1, 2, 3],\n",
        "      [4, 5, 6]]\n",
        "```"
      ]
    },
    {
      "cell_type": "code",
      "execution_count": null,
      "metadata": {
        "id": "RmHUIiYrcmLd"
      },
      "outputs": [],
      "source": [
        "#Buat array\n",
        "\n",
        "\n"
      ]
    },
    {
      "cell_type": "code",
      "execution_count": null,
      "metadata": {
        "id": "OTbCFCMTcmLe"
      },
      "outputs": [],
      "source": [
        "#Mencari nilai minimum -> .min()\n",
        "#Mencari nilai maximum - > .max()\n",
        "#Mencari nilai total -> .sum()\n",
        "\n",
        "#Mencari nilai minimum -> .min()\n",
        "#Mencari nilai maximum - > .max()\n",
        "#Mencari nilai total -> .sum()\n",
        "\n"
      ]
    },
    {
      "cell_type": "markdown",
      "metadata": {
        "id": "hzXakCZ-cmLe"
      },
      "source": [
        "**NOMOR 8**\n",
        "\n",
        "Buatlah sebuah array seperti dibawah ini dan cari baris kedua dan kolom kedua.\n",
        "\n",
        "```\n",
        "n = [ [1, 2, 3], \n",
        "      [4, 5, 6],\n",
        "      [7, 8, 9]]\n",
        "```"
      ]
    },
    {
      "cell_type": "code",
      "execution_count": null,
      "metadata": {
        "id": "8zVwJHARcmLe"
      },
      "outputs": [],
      "source": [
        "#Buat array\n",
        "\n"
      ]
    },
    {
      "cell_type": "code",
      "execution_count": null,
      "metadata": {
        "id": "gX7ndiqJcmLe"
      },
      "outputs": [],
      "source": [
        "#Get baris&Kolom\n",
        "# nama_array[baris,kolom]\n",
        "\n"
      ]
    },
    {
      "cell_type": "code",
      "execution_count": null,
      "metadata": {
        "id": "cQPbgLuOcmLe"
      },
      "outputs": [],
      "source": [
        "# Get baris kedua\n",
        "# Bisa menggunakan n[1] atau n[1, :]\n",
        "\n",
        "\n"
      ]
    },
    {
      "cell_type": "code",
      "execution_count": null,
      "metadata": {
        "id": "WkO5IfGtcmLe"
      },
      "outputs": [],
      "source": [
        "# Get kolom kedua (menampilkan secara array 1D)\n",
        "#n[:, 1]\n"
      ]
    },
    {
      "cell_type": "code",
      "execution_count": null,
      "metadata": {
        "id": "5PNo251hcmLf"
      },
      "outputs": [],
      "source": [
        "# Get kolom kedua (menampilkan secara array 2D)\n",
        "# nama_array[:, [index_kolom]]\n",
        "\n"
      ]
    },
    {
      "cell_type": "code",
      "execution_count": null,
      "metadata": {
        "id": "m-qY0hTgcmLf"
      },
      "outputs": [],
      "source": [
        "# Get elemen diagonal (dari kiri ke kanan)\n",
        "# np.diag()\n",
        "# buka dokumentasi\n"
      ]
    },
    {
      "cell_type": "code",
      "execution_count": null,
      "metadata": {
        "id": "BSA_rROWcmLf"
      },
      "outputs": [],
      "source": [
        "# Get elemen diagonal (dari kanan ke kiri)\n",
        "# np.diag(np.fliplr(n))\n",
        "\n",
        "\n"
      ]
    },
    {
      "cell_type": "markdown",
      "metadata": {
        "id": "7NsZ4kOycmLf"
      },
      "source": [
        "**NOMOR 9**\n",
        "\n",
        "Buatlah sebuah array seperti dibawah ini dan cari nilai `min`, `max`, dan `sum` untuk baris kedua dan kolom kedua.\n",
        "\n",
        "```\n",
        "m = [ [1, 2, 3], \n",
        "      [4, 5, 6],\n",
        "      [7, 8, 9]]\n",
        "```"
      ]
    },
    {
      "cell_type": "code",
      "execution_count": null,
      "metadata": {
        "id": "xIoEWukJcmLf"
      },
      "outputs": [],
      "source": [
        "#Buat array\n",
        "\n"
      ]
    },
    {
      "cell_type": "code",
      "execution_count": null,
      "metadata": {
        "id": "MSc4nrGMcmLf"
      },
      "outputs": [],
      "source": [
        "#buat variabel yang berisikan baris ke 2\n",
        "\n",
        "\n",
        "#buat variabel yang berisikan kolom ke 2\n"
      ]
    },
    {
      "cell_type": "code",
      "execution_count": null,
      "metadata": {
        "id": "xGOEGPoKcmLf"
      },
      "outputs": [],
      "source": [
        "#Cari masing2 nilai sum, min, dan max\n",
        "\n",
        "\n"
      ]
    },
    {
      "cell_type": "markdown",
      "metadata": {
        "id": "54EE0Na_cmLf"
      },
      "source": [
        "**NOMOR 10**\n",
        "\n",
        "<img src='https://i.ibb.co/JvBzgWn/greyscale.png'>\n",
        "\n",
        "Download image [disini](https://i.ibb.co/JvBzgWn/greyscale.png)\n",
        "\n",
        "* Load gambar tersebut dengan menggunakan library matplotlib.\n",
        "* Jawab pertanyaan berikut ini : \n",
        "  - Berapa ukuran gambar tersebut.\n",
        "  - Berapa total piksel/element pada gambar tersebut.\n",
        "  - Cerahkan gambar tersebut dengan menambahkan suatu angka."
      ]
    },
    {
      "cell_type": "code",
      "execution_count": null,
      "metadata": {
        "id": "y9PgcS4TcmLf",
        "outputId": "8feff526-ef0f-4ab8-e274-89c543b33b51",
        "colab": {
          "base_uri": "https://localhost:8080/"
        }
      },
      "outputs": [
        {
          "output_type": "stream",
          "name": "stdout",
          "text": [
            "Looking in indexes: https://pypi.org/simple, https://us-python.pkg.dev/colab-wheels/public/simple/\n",
            "Requirement already satisfied: matplotlib in /usr/local/lib/python3.7/dist-packages (3.2.2)\n",
            "Requirement already satisfied: cycler>=0.10 in /usr/local/lib/python3.7/dist-packages (from matplotlib) (0.11.0)\n",
            "Requirement already satisfied: kiwisolver>=1.0.1 in /usr/local/lib/python3.7/dist-packages (from matplotlib) (1.4.4)\n",
            "Requirement already satisfied: python-dateutil>=2.1 in /usr/local/lib/python3.7/dist-packages (from matplotlib) (2.8.2)\n",
            "Requirement already satisfied: numpy>=1.11 in /usr/local/lib/python3.7/dist-packages (from matplotlib) (1.21.6)\n",
            "Requirement already satisfied: pyparsing!=2.0.4,!=2.1.2,!=2.1.6,>=2.0.1 in /usr/local/lib/python3.7/dist-packages (from matplotlib) (3.0.9)\n",
            "Requirement already satisfied: typing-extensions in /usr/local/lib/python3.7/dist-packages (from kiwisolver>=1.0.1->matplotlib) (4.1.1)\n",
            "Requirement already satisfied: six>=1.5 in /usr/local/lib/python3.7/dist-packages (from python-dateutil>=2.1->matplotlib) (1.15.0)\n"
          ]
        }
      ],
      "source": [
        "#Install matplotlib in jupyter\n",
        "import sys  \n",
        "!{sys.executable} -m pip install --user matplotlib"
      ]
    },
    {
      "cell_type": "code",
      "execution_count": null,
      "metadata": {
        "id": "Td9P2pkycmLg"
      },
      "outputs": [],
      "source": [
        "#Import matplotlib\n",
        "import matplotlib.pyplot as plt\n"
      ]
    },
    {
      "cell_type": "code",
      "execution_count": null,
      "metadata": {
        "id": "Fa1Uq-zacmLg"
      },
      "outputs": [],
      "source": [
        "#Baca gambar menggunakan plt.imread('location_gambar') lalu masukkan ke variabel\n"
      ]
    },
    {
      "cell_type": "code",
      "execution_count": null,
      "metadata": {
        "id": "_Srt-HKKcmLg"
      },
      "outputs": [],
      "source": [
        "#Cek ukuran gambar\n",
        "#.shape\n"
      ]
    },
    {
      "cell_type": "code",
      "execution_count": null,
      "metadata": {
        "id": "gQ0M88HZcmLg"
      },
      "outputs": [],
      "source": [
        "# Total Piksel\n",
        "#.size\n",
        "\n"
      ]
    },
    {
      "cell_type": "code",
      "execution_count": null,
      "metadata": {
        "id": "dhPYPXhzcmLg"
      },
      "outputs": [],
      "source": [
        "#Nilai piksel\n",
        "#img, udah di scalling\n",
        "\n",
        "\n"
      ]
    },
    {
      "cell_type": "code",
      "execution_count": null,
      "metadata": {
        "id": "FIQlTahocmLg"
      },
      "outputs": [],
      "source": [
        "#Memastikan tipe data menjadi array\n",
        "#np.asarray()\n"
      ]
    },
    {
      "cell_type": "code",
      "execution_count": null,
      "metadata": {
        "id": "PkREJKzWcmLg"
      },
      "outputs": [],
      "source": [
        "#Menentukan nilai yg akan ditambahkan ke piksel\n",
        "#Ubah ke skala 0-1, divide by 255 (highest pixel value)\n"
      ]
    },
    {
      "cell_type": "code",
      "execution_count": null,
      "metadata": {
        "id": "ngx6kZPicmLh"
      },
      "outputs": [],
      "source": [
        "#Copy datanya dulu (penting setiap ingin memodifikasi data) ke variabel baru\n",
        "\n",
        "\n",
        "#tambahkan nilai piksel ke gambar\n",
        "\n"
      ]
    },
    {
      "cell_type": "code",
      "execution_count": null,
      "metadata": {
        "id": "sPPDob8gcmLh"
      },
      "outputs": [],
      "source": [
        "# Menampilkan gambar original\n",
        "# `img` : array gambar\n",
        "# `cmap` : color map #figure\n",
        "# `vmin` : value minimum #figure\n",
        "# `vmax` : value maximum #figure\n",
        "#plt.imshow(nama_variabel, cmap='gray', vmin=0, vmax=1)\n",
        "\n"
      ]
    },
    {
      "cell_type": "code",
      "execution_count": null,
      "metadata": {
        "id": "c7G3g2XtcmLh"
      },
      "outputs": [],
      "source": [
        "# Menampilkan gambar yg sudah ditambah suatu value\n",
        "\n"
      ]
    }
  ],
  "metadata": {
    "interpreter": {
      "hash": "fbe69909b876abbd803d291e51ebabcdbbeff4e7f625f723ebefe76e750e4611"
    },
    "kernelspec": {
      "display_name": "Python 3.7.9 64-bit",
      "language": "python",
      "name": "python3"
    },
    "language_info": {
      "codemirror_mode": {
        "name": "ipython",
        "version": 3
      },
      "file_extension": ".py",
      "mimetype": "text/x-python",
      "name": "python",
      "nbconvert_exporter": "python",
      "pygments_lexer": "ipython3",
      "version": "3.7.9"
    },
    "orig_nbformat": 4,
    "colab": {
      "provenance": [],
      "collapsed_sections": []
    }
  },
  "nbformat": 4,
  "nbformat_minor": 0
}