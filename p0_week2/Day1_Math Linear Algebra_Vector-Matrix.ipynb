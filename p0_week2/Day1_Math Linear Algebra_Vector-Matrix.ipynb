{
  "nbformat": 4,
  "nbformat_minor": 0,
  "metadata": {
    "colab": {
      "provenance": [],
      "collapsed_sections": [],
      "toc_visible": true
    },
    "kernelspec": {
      "name": "python3",
      "display_name": "Python 3"
    },
    "language_info": {
      "name": "python"
    }
  },
  "cells": [
    {
      "cell_type": "markdown",
      "source": [
        "# A. Vector"
      ],
      "metadata": {
        "id": "st9ZGtC8ELmU"
      }
    },
    {
      "cell_type": "markdown",
      "source": [
        "## Pendefinisian"
      ],
      "metadata": {
        "id": "Emfa8HUqEOW7"
      }
    },
    {
      "cell_type": "code",
      "source": [
        "# Import Libray\n",
        "\n",
        "import numpy as np"
      ],
      "metadata": {
        "id": "JDupjTN7sIjM"
      },
      "execution_count": null,
      "outputs": []
    },
    {
      "cell_type": "code",
      "source": [
        "# Pendefinisian Vector\n",
        "\n",
        "a = [1, 2, 3]\n",
        "vect_a = np.array(a)\n",
        "vect_a"
      ],
      "metadata": {
        "colab": {
          "base_uri": "https://localhost:8080/"
        },
        "id": "SoJ3obz0sfVO",
        "outputId": "c6073f64-23f2-4145-ac7a-15f1c770c86f"
      },
      "execution_count": null,
      "outputs": [
        {
          "output_type": "execute_result",
          "data": {
            "text/plain": [
              "array([1, 2, 3])"
            ]
          },
          "metadata": {},
          "execution_count": 2
        }
      ]
    },
    {
      "cell_type": "markdown",
      "source": [
        "## Operasi Aritmatika (Penjumlahan, Pengurangan, dan Pembagian)"
      ],
      "metadata": {
        "id": "WbpNMD29ESfs"
      }
    },
    {
      "cell_type": "code",
      "source": [
        "# Operasi Aritmatika (Penjumlahan, Pengurangan, dan Pembagian) dengan Bilangan Skalar\n",
        "\n",
        "print('Penjumlahan : ', vect_a + 2)\n",
        "print('Pengurangan : ', vect_a - 2)\n",
        "print('Pembagian   : ', vect_a/2)"
      ],
      "metadata": {
        "colab": {
          "base_uri": "https://localhost:8080/"
        },
        "id": "brNIx0jouFe1",
        "outputId": "ff379393-da73-4b0c-9c1e-92d6a87fb39e"
      },
      "execution_count": null,
      "outputs": [
        {
          "output_type": "stream",
          "name": "stdout",
          "text": [
            "Penjumlahan :  [3 4 5]\n",
            "Pengurangan :  [-1  0  1]\n",
            "Pembagian   :  [0.5 1.  1.5]\n"
          ]
        }
      ]
    },
    {
      "cell_type": "code",
      "source": [
        "# Operasi Aritmatika (Penjumlahan, Pengurangan, dan Pembagian) dengan Sesama Vector\n",
        "\n",
        "b = [4, 5, 6]\n",
        "vect_b = np.array(b)\n",
        "\n",
        "print('Penjumlahan : ', vect_a + vect_b)\n",
        "print('Pengurangan : ', vect_a - vect_b)\n",
        "print('Pembagian   : ', vect_a / vect_b)"
      ],
      "metadata": {
        "colab": {
          "base_uri": "https://localhost:8080/"
        },
        "id": "PUxzGAgWuTG5",
        "outputId": "d5c95e32-3869-437f-f046-e8cf3686c2f2"
      },
      "execution_count": null,
      "outputs": [
        {
          "output_type": "stream",
          "name": "stdout",
          "text": [
            "Penjumlahan :  [5 7 9]\n",
            "Pengurangan :  [-3 -3 -3]\n",
            "Pembagian   :  [0.25 0.4  0.5 ]\n"
          ]
        }
      ]
    },
    {
      "cell_type": "markdown",
      "source": [
        "## Vector Norm"
      ],
      "metadata": {
        "id": "HIV_ZKtSFKQ-"
      }
    },
    {
      "cell_type": "code",
      "source": [
        "# Mencari Vector Norm\n",
        "\n",
        "d = [8, 6]\n",
        "vect_d = np.array(d)\n",
        "\n",
        "print('L1 - Manhattan Distance')\n",
        "print(np.linalg.norm(vect_d, 1))\n",
        "print('')\n",
        "\n",
        "print('L2 - Euclidean Distance')\n",
        "print(np.linalg.norm(vect_d))\n",
        "print(np.linalg.norm(vect_d, 2))"
      ],
      "metadata": {
        "colab": {
          "base_uri": "https://localhost:8080/"
        },
        "id": "-kfvq3RxwtnJ",
        "outputId": "7d3d8aef-9528-4ef9-b438-62ae5fbcdbfd"
      },
      "execution_count": null,
      "outputs": [
        {
          "output_type": "stream",
          "name": "stdout",
          "text": [
            "L1 - Manhattan Distance\n",
            "14.0\n",
            "\n",
            "L2 - Euclidean Distance\n",
            "10.0\n",
            "10.0\n"
          ]
        }
      ]
    },
    {
      "cell_type": "markdown",
      "source": [
        "## Operasi Perkalian"
      ],
      "metadata": {
        "id": "4f2h2pI4FPBo"
      }
    },
    {
      "cell_type": "code",
      "source": [
        "# Operasi Perkalian dengan Bilangan\n",
        "\n",
        "e = [1, 2 , 3]\n",
        "vect_e = np.array(e)\n",
        "\n",
        "print(vect_e * 2)"
      ],
      "metadata": {
        "colab": {
          "base_uri": "https://localhost:8080/"
        },
        "id": "tnqoXOI4ypNG",
        "outputId": "7c2cae75-4d61-47df-95fc-3b7a08782a44"
      },
      "execution_count": null,
      "outputs": [
        {
          "output_type": "stream",
          "name": "stdout",
          "text": [
            "[2 4 6]\n"
          ]
        }
      ]
    },
    {
      "cell_type": "code",
      "source": [
        "# Operasi Perkalian dengan Sesama Vector\n",
        "\n",
        "f = [1, 2, 3]\n",
        "g = [4, 5, 6] \n",
        "\n",
        "vect_f = np.array(f)\n",
        "vect_g = np.array(g)\n",
        "\n",
        "print('Hasil Perkalian - Element Wise')\n",
        "print(vect_f * vect_g)\n",
        "print('')\n",
        "\n",
        "print('Hasil Perkalian - Dot Product')\n",
        "print(vect_f @ vect_g)\n",
        "print(vect_f.dot(vect_g))\n",
        "print(np.dot(vect_f, vect_g))"
      ],
      "metadata": {
        "colab": {
          "base_uri": "https://localhost:8080/"
        },
        "id": "mklR0e-NyzWw",
        "outputId": "0dfaf686-bd3a-47f3-a1ea-c439b018a76a"
      },
      "execution_count": null,
      "outputs": [
        {
          "output_type": "stream",
          "name": "stdout",
          "text": [
            "Hasil Perkalian - Element Wise\n",
            "[ 4 10 18]\n",
            "\n",
            "Hasil Perkalian - Dot Product\n",
            "32\n",
            "32\n",
            "32\n"
          ]
        }
      ]
    },
    {
      "cell_type": "markdown",
      "source": [
        "## Cosine Similarity"
      ],
      "metadata": {
        "id": "aByr0cQbF2NF"
      }
    },
    {
      "cell_type": "code",
      "source": [
        "# Cosine Similarity\n",
        "\n",
        "k = [8, 0]\n",
        "m = [6, 0]\n",
        "\n",
        "vect_k = np.array(k)\n",
        "vect_m = np.array(m)\n",
        "\n",
        "cos_theta = (vect_k @ vect_m) / (np.linalg.norm(vect_k) * np.linalg.norm(vect_m))\n",
        "cos_theta"
      ],
      "metadata": {
        "colab": {
          "base_uri": "https://localhost:8080/"
        },
        "id": "wnfD4ZPIzEOl",
        "outputId": "b2ea2cb8-5dad-4a16-9f50-4feb12194968"
      },
      "execution_count": null,
      "outputs": [
        {
          "output_type": "execute_result",
          "data": {
            "text/plain": [
              "1.0"
            ]
          },
          "metadata": {},
          "execution_count": 8
        }
      ]
    },
    {
      "cell_type": "code",
      "source": [
        "# Mencari Radian dan Degree\n",
        "\n",
        "radian = np.arccos(cos_theta)\n",
        "degree = np.degrees(radian)\n",
        "\n",
        "print('Radian : ', radian)\n",
        "print('Degree : ', degree)"
      ],
      "metadata": {
        "colab": {
          "base_uri": "https://localhost:8080/"
        },
        "id": "yS29fmU83CjA",
        "outputId": "2c73ce52-78fb-4c11-84fb-e647a05b4cfb"
      },
      "execution_count": null,
      "outputs": [
        {
          "output_type": "stream",
          "name": "stdout",
          "text": [
            "Radian :  0.0\n",
            "Degree :  0.0\n"
          ]
        }
      ]
    },
    {
      "cell_type": "markdown",
      "source": [
        "## Studi Kasus"
      ],
      "metadata": {
        "id": "qm4caqmO5seV"
      }
    },
    {
      "cell_type": "markdown",
      "source": [
        "```\n",
        "teks_1 = saya pergi ke rumah kakek saya\n",
        "teks_2 = saya pergi ke rumah nenek saya\n",
        "```"
      ],
      "metadata": {
        "id": "rG5dc94lF-2y"
      }
    },
    {
      "cell_type": "code",
      "source": [
        "# Pendefinisian Vector\n",
        "\n",
        "t1 = [2, 1, 1, 1, 1, 0]\n",
        "t2 = [2, 1, 1, 1, 0, 1]\n",
        "\n",
        "vect_t1 = np.array(t1)\n",
        "vect_t2 = np.array(t2)\n",
        "\n",
        "cos_theta = (vect_t1 @ vect_t2) / (np.linalg.norm(vect_t1) * np.linalg.norm(vect_t2))\n",
        "cos_theta"
      ],
      "metadata": {
        "colab": {
          "base_uri": "https://localhost:8080/"
        },
        "id": "I50DX83r54Es",
        "outputId": "b6b89262-37bd-4823-c596-5d00d363424f"
      },
      "execution_count": null,
      "outputs": [
        {
          "output_type": "execute_result",
          "data": {
            "text/plain": [
              "0.8749999999999998"
            ]
          },
          "metadata": {},
          "execution_count": 10
        }
      ]
    },
    {
      "cell_type": "code",
      "source": [
        "# Melihat Ukuran Vector `vec_t1`\n",
        "\n",
        "vect_t1.shape"
      ],
      "metadata": {
        "colab": {
          "base_uri": "https://localhost:8080/"
        },
        "id": "f-8QAI_I8aqE",
        "outputId": "8be552a2-3bf3-4bd1-9e00-bb1430ab4f7e"
      },
      "execution_count": null,
      "outputs": [
        {
          "output_type": "execute_result",
          "data": {
            "text/plain": [
              "(6,)"
            ]
          },
          "metadata": {},
          "execution_count": 11
        }
      ]
    },
    {
      "cell_type": "markdown",
      "source": [
        "# B. Matrix"
      ],
      "metadata": {
        "id": "ptGlLPkd8Aup"
      }
    },
    {
      "cell_type": "markdown",
      "source": [
        "## Pendefinisian"
      ],
      "metadata": {
        "id": "u5XEJZpcId4q"
      }
    },
    {
      "cell_type": "code",
      "source": [
        "# Pendefinisian Matrix\n",
        "\n",
        "A = [[1, 2, 3],\n",
        "     [4, 5, 6]]\n",
        "\n",
        "matrix_A = np.array(A)\n",
        "matrix_A"
      ],
      "metadata": {
        "colab": {
          "base_uri": "https://localhost:8080/"
        },
        "id": "YQ0ic1Ma8IWS",
        "outputId": "f353ad84-4d4d-4ddc-ecf4-f3071d3c2c5d"
      },
      "execution_count": null,
      "outputs": [
        {
          "output_type": "execute_result",
          "data": {
            "text/plain": [
              "array([[1, 2, 3],\n",
              "       [4, 5, 6]])"
            ]
          },
          "metadata": {},
          "execution_count": 12
        }
      ]
    },
    {
      "cell_type": "code",
      "source": [
        "# Melihat Ukuran `matrix_A`\n",
        "\n",
        "matrix_A.shape"
      ],
      "metadata": {
        "colab": {
          "base_uri": "https://localhost:8080/"
        },
        "id": "VEx5mwCY8XMy",
        "outputId": "917618ea-6248-4e20-d942-872718768971"
      },
      "execution_count": null,
      "outputs": [
        {
          "output_type": "execute_result",
          "data": {
            "text/plain": [
              "(2, 3)"
            ]
          },
          "metadata": {},
          "execution_count": 13
        }
      ]
    },
    {
      "cell_type": "markdown",
      "source": [
        "## Operasi Aritmatika"
      ],
      "metadata": {
        "id": "PSqNUz1gIiwK"
      }
    },
    {
      "cell_type": "code",
      "source": [
        "# Operasi Aritmatika terhadap Matrix dengan Bilangan\n",
        "\n",
        "print('Penjumlahan : \\n', matrix_A + 2)\n",
        "print('')\n",
        "\n",
        "print('Pengurangan : \\n', matrix_A - 2)\n",
        "print('')\n",
        "\n",
        "print('Perkalian   : \\n', matrix_A * 2)\n",
        "print('')\n",
        "\n",
        "print('Pembagian   : \\n', matrix_A / 2)\n",
        "print('')"
      ],
      "metadata": {
        "colab": {
          "base_uri": "https://localhost:8080/"
        },
        "id": "CsX7jcGW8g3W",
        "outputId": "674f4cde-5265-4c4b-9914-62c8a805e986"
      },
      "execution_count": null,
      "outputs": [
        {
          "output_type": "stream",
          "name": "stdout",
          "text": [
            "Penjumlahan : \n",
            " [[3 4 5]\n",
            " [6 7 8]]\n",
            "\n",
            "Pengurangan : \n",
            " [[-1  0  1]\n",
            " [ 2  3  4]]\n",
            "\n",
            "Perkalian   : \n",
            " [[ 2  4  6]\n",
            " [ 8 10 12]]\n",
            "\n",
            "Pembagian   : \n",
            " [[0.5 1.  1.5]\n",
            " [2.  2.5 3. ]]\n",
            "\n"
          ]
        }
      ]
    },
    {
      "cell_type": "code",
      "source": [
        "# Pendefinisian Matrix B\n",
        "\n",
        "B = [[7, 8, 9],\n",
        "     [10, 11, 12]]\n",
        "\n",
        "matrix_B = np.array(B)\n",
        "matrix_B"
      ],
      "metadata": {
        "colab": {
          "base_uri": "https://localhost:8080/"
        },
        "id": "vgCfjfha80xY",
        "outputId": "94dc5947-7a58-4803-fcf8-862fbc1900ce"
      },
      "execution_count": null,
      "outputs": [
        {
          "output_type": "execute_result",
          "data": {
            "text/plain": [
              "array([[ 7,  8,  9],\n",
              "       [10, 11, 12]])"
            ]
          },
          "metadata": {},
          "execution_count": 15
        }
      ]
    },
    {
      "cell_type": "code",
      "source": [
        "# Operasi Aritmatika Antar Sesama Matrix\n",
        "\n",
        "print('Penjumlahan : \\n', matrix_A + matrix_B)\n",
        "print('')\n",
        "\n",
        "print('Pengurangan : \\n', matrix_A - matrix_B)\n",
        "print('')\n",
        "\n",
        "print('Perkalian   : \\n', matrix_A * matrix_B)\n",
        "print('')\n",
        "\n",
        "print('Pembagian   : \\n', matrix_A / matrix_B)\n",
        "print('')"
      ],
      "metadata": {
        "colab": {
          "base_uri": "https://localhost:8080/"
        },
        "id": "k6RsuEn39DoT",
        "outputId": "70b1b164-e44c-4063-b2f5-ff7ab5c60b83"
      },
      "execution_count": null,
      "outputs": [
        {
          "output_type": "stream",
          "name": "stdout",
          "text": [
            "Penjumlahan : \n",
            " [[ 8 10 12]\n",
            " [14 16 18]]\n",
            "\n",
            "Pengurangan : \n",
            " [[-6 -6 -6]\n",
            " [-6 -6 -6]]\n",
            "\n",
            "Perkalian   : \n",
            " [[ 7 16 27]\n",
            " [40 55 72]]\n",
            "\n",
            "Pembagian   : \n",
            " [[0.14285714 0.25       0.33333333]\n",
            " [0.4        0.45454545 0.5       ]]\n",
            "\n"
          ]
        }
      ]
    },
    {
      "cell_type": "code",
      "source": [
        "# Perkalian Vector (Matrix Multiplication)\n",
        "\n",
        "A = [[1, 2],\n",
        "     [3, 4],\n",
        "     [5, 6]]\n",
        "\n",
        "B = [[1, 2],\n",
        "     [3, 4]]\n",
        "\n",
        "matrix_A = np.array(A)\n",
        "matrix_B = np.array(B)\n",
        "\n",
        "print(matrix_A @ matrix_B)"
      ],
      "metadata": {
        "colab": {
          "base_uri": "https://localhost:8080/"
        },
        "id": "84dGMFyR9jNM",
        "outputId": "62caedb5-ba9c-4bb1-89a9-96afabedda53"
      },
      "execution_count": null,
      "outputs": [
        {
          "output_type": "stream",
          "name": "stdout",
          "text": [
            "[[ 7 10]\n",
            " [15 22]\n",
            " [23 34]]\n"
          ]
        }
      ]
    },
    {
      "cell_type": "markdown",
      "source": [
        "## Pembuktian Perkalian dengan Identity Matrix"
      ],
      "metadata": {
        "id": "U4FBoDAbJidS"
      }
    },
    {
      "cell_type": "code",
      "source": [
        "# Pembuktian Matrix Identitas\n",
        "\n",
        "C = [[1, 2, 3], \n",
        "     [4, 5, 6],\n",
        "     [7, 8, 9]]\n",
        "\n",
        "matrix_C = np.array(C)\n",
        "print(matrix_C)\n",
        "print('')\n",
        "\n",
        "matrix_D = np.eye(3, 3)\n",
        "print(matrix_D)\n",
        "print('')\n",
        "\n",
        "print(matrix_C @ matrix_D)"
      ],
      "metadata": {
        "colab": {
          "base_uri": "https://localhost:8080/"
        },
        "id": "lp2lN4VqAGW7",
        "outputId": "6cc22096-7644-4d2f-f9aa-1eeae7019343"
      },
      "execution_count": null,
      "outputs": [
        {
          "output_type": "stream",
          "name": "stdout",
          "text": [
            "[[1 2 3]\n",
            " [4 5 6]\n",
            " [7 8 9]]\n",
            "\n",
            "[[1. 0. 0.]\n",
            " [0. 1. 0.]\n",
            " [0. 0. 1.]]\n",
            "\n",
            "[[1. 2. 3.]\n",
            " [4. 5. 6.]\n",
            " [7. 8. 9.]]\n"
          ]
        }
      ]
    }
  ]
}