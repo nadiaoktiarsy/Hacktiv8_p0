{
 "cells": [
  {
   "cell_type": "markdown",
   "metadata": {},
   "source": [
    "# Probability and Distribution\n",
    "\n",
    "For prediction/forecasting. The value is between 0 and 1, indicates likelihood of a particular event with 0 as impossible and 1 as inevitable.\n",
    "\n",
    "Terminologies:\n",
    "- *Outcome*: the result of trials\n",
    "- *Sample space*: the collection of the probable outcome in an experiment\n",
    "- *Event*: The part of sample space, could be one or more outcomes\n",
    "- *Uppercase letters*: Event usually is representated in capital latters (A, B, C, etc)\n",
    "- *Probability Experiments*: the action or trial which resulting counts, measurements, etc"
   ]
  },
  {
   "cell_type": "code",
   "execution_count": null,
   "metadata": {},
   "outputs": [],
   "source": []
  }
 ],
 "metadata": {
  "language_info": {
   "name": "python"
  },
  "orig_nbformat": 4
 },
 "nbformat": 4,
 "nbformat_minor": 2
}
